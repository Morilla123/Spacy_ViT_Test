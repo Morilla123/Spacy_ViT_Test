{
  "nbformat": 4,
  "nbformat_minor": 0,
  "metadata": {
    "colab": {
      "name": "Copia de Transformers_medicina_extraccion_2.ipynb",
      "provenance": [],
      "collapsed_sections": [],
      "authorship_tag": "ABX9TyPueTx/01bx8dAdu3hawE1x",
      "include_colab_link": true
    },
    "kernelspec": {
      "name": "python3",
      "display_name": "Python 3"
    },
    "language_info": {
      "name": "python"
    },
    "accelerator": "GPU"
  },
  "cells": [
    {
      "cell_type": "markdown",
      "metadata": {
        "id": "view-in-github",
        "colab_type": "text"
      },
      "source": [
        "<a href=\"https://colab.research.google.com/github/Morilla123/Curso/blob/main/Copia_de_Transformers_medicina_extraccion.ipynb\" target=\"_parent\"><img src=\"https://colab.research.google.com/assets/colab-badge.svg\" alt=\"Open In Colab\"/></a>"
      ]
    },
    {
      "cell_type": "markdown",
      "metadata": {
        "id": "CPH7fdOtZHYz"
      },
      "source": [
        "## Extraccion de informacion de reportes medicos\n",
        "\n",
        "El objetivo de este proyecto es extraer desde un reporte medico que contiene texto libre, informacion del paciente, informacion de la medicacion del paciente, y una imagen de un radiografia de torax, lo siguiente:\n",
        "\n",
        "- Texto del reporte de-identificado (sin informacion personal del paciente)\n",
        "- Medicamentos con los que es tratado el paciente\n",
        "- Prediccion de si en la radiografia es normal o presenta neumonia\n",
        "\n",
        "Documento a analizar: [Reporte](https://drive.google.com/file/d/15zA5XDQfrVIYZk0gHGLxQqt_up7-NjuP/view?usp=sharing)"
      ]
    },
    {
      "cell_type": "markdown",
      "metadata": {
        "id": "7xGbzCOpZNis"
      },
      "source": [
        "*1*) De-identificar texto (quitar informacion personal)"
      ]
    },
    {
      "cell_type": "code",
      "metadata": {
        "id": "gmq6uhQCZYNB"
      },
      "source": [
        ""
      ],
      "execution_count": null,
      "outputs": []
    },
    {
      "cell_type": "markdown",
      "metadata": {
        "id": "zbgoqD3EZQGR"
      },
      "source": [
        "2) Obtener medicamentos del paciente"
      ]
    },
    {
      "cell_type": "code",
      "metadata": {
        "id": "_yJC1aeSZc4G"
      },
      "source": [
        ""
      ],
      "execution_count": null,
      "outputs": []
    },
    {
      "cell_type": "markdown",
      "metadata": {
        "id": "GknBcOy1ZP42"
      },
      "source": [
        "3) Predecir si la radiografia corresponde a un paciente normal o con neumonia"
      ]
    },
    {
      "cell_type": "code",
      "metadata": {
        "id": "8q1YujdtZBuM"
      },
      "source": [
        ""
      ],
      "execution_count": null,
      "outputs": []
    },
    {
      "cell_type": "markdown",
      "metadata": {
        "id": "GEFQ3mjY5Qt0"
      },
      "source": [
        "## Anonimizacion (nombres)"
      ]
    },
    {
      "cell_type": "code",
      "metadata": {
        "id": "1vFnWc-N5QGj"
      },
      "source": [
        "%%capture\n",
        "! pip install transformers datasets\n",
        "from transformers import AutoTokenizer, TFAutoModelForQuestionAnswering\n",
        "import tensorflow as tf\n",
        "!pip install spacy\n",
        "from spacy import displacy\n",
        "import spacy"
      ],
      "execution_count": 17,
      "outputs": []
    },
    {
      "cell_type": "markdown",
      "metadata": {
        "id": "i8S8nYc57Vnx"
      },
      "source": [
        "text = \"Name: Matias Molinas Birth date: 10/03/1918 (54) 342- 5678906 Significant Medical History Mr. Matias Molinas is a 52 y/o accountant with hypercholesterolemia and polycythemia vera who has been in relatively good health. Diagnostic: Patient needs to take 50 mg of ibuprofen. Chest X-Ray:\"\n"
      ]
    },
    {
      "cell_type": "code",
      "metadata": {
        "id": "48XYhrJX5w2h"
      },
      "source": [
        "nlp = spacy.load(\"en_core_web_sm\")"
      ],
      "execution_count": 18,
      "outputs": []
    },
    {
      "cell_type": "code",
      "metadata": {
        "colab": {
          "base_uri": "https://localhost:8080/",
          "height": 0
        },
        "id": "tw-iT7oj5n7E",
        "outputId": "7f5a07c7-57da-4d83-c1be-3fab1b2a52a1"
      },
      "source": [
        "doc = nlp(text)\n",
        "displacy.render(doc, style='ent')"
      ],
      "execution_count": 19,
      "outputs": [
        {
          "output_type": "execute_result",
          "data": {
            "application/vnd.google.colaboratory.intrinsic+json": {
              "type": "string"
            },
            "text/plain": [
              "'<div class=\"entities\" style=\"line-height: 2.5; direction: ltr\">Name: \\n<mark class=\"entity\" style=\"background: #aa9cfc; padding: 0.45em 0.6em; margin: 0 0.25em; line-height: 1; border-radius: 0.35em;\">\\n    Matias Molinas Birth\\n    <span style=\"font-size: 0.8em; font-weight: bold; line-height: 1; border-radius: 0.35em; text-transform: uppercase; vertical-align: middle; margin-left: 0.5rem\">PERSON</span>\\n</mark>\\n date: \\n<mark class=\"entity\" style=\"background: #bfe1d9; padding: 0.45em 0.6em; margin: 0 0.25em; line-height: 1; border-radius: 0.35em;\">\\n    10/03/1918\\n    <span style=\"font-size: 0.8em; font-weight: bold; line-height: 1; border-radius: 0.35em; text-transform: uppercase; vertical-align: middle; margin-left: 0.5rem\">DATE</span>\\n</mark>\\n (\\n<mark class=\"entity\" style=\"background: #e4e7d2; padding: 0.45em 0.6em; margin: 0 0.25em; line-height: 1; border-radius: 0.35em;\">\\n    54\\n    <span style=\"font-size: 0.8em; font-weight: bold; line-height: 1; border-radius: 0.35em; text-transform: uppercase; vertical-align: middle; margin-left: 0.5rem\">CARDINAL</span>\\n</mark>\\n) 342- \\n<mark class=\"entity\" style=\"background: #e4e7d2; padding: 0.45em 0.6em; margin: 0 0.25em; line-height: 1; border-radius: 0.35em;\">\\n    5678906\\n    <span style=\"font-size: 0.8em; font-weight: bold; line-height: 1; border-radius: 0.35em; text-transform: uppercase; vertical-align: middle; margin-left: 0.5rem\">CARDINAL</span>\\n</mark>\\n Significant Medical History Mr. \\n<mark class=\"entity\" style=\"background: #aa9cfc; padding: 0.45em 0.6em; margin: 0 0.25em; line-height: 1; border-radius: 0.35em;\">\\n    Matias Molinas\\n    <span style=\"font-size: 0.8em; font-weight: bold; line-height: 1; border-radius: 0.35em; text-transform: uppercase; vertical-align: middle; margin-left: 0.5rem\">PERSON</span>\\n</mark>\\n is a \\n<mark class=\"entity\" style=\"background: #e4e7d2; padding: 0.45em 0.6em; margin: 0 0.25em; line-height: 1; border-radius: 0.35em;\">\\n    52 y\\n    <span style=\"font-size: 0.8em; font-weight: bold; line-height: 1; border-radius: 0.35em; text-transform: uppercase; vertical-align: middle; margin-left: 0.5rem\">QUANTITY</span>\\n</mark>\\n/o accountant with hypercholesterolemia and polycythemia vera who has been in relatively good health. Diagnostic: Patient needs to take \\n<mark class=\"entity\" style=\"background: #bfe1d9; padding: 0.45em 0.6em; margin: 0 0.25em; line-height: 1; border-radius: 0.35em;\">\\n    50 mg\\n    <span style=\"font-size: 0.8em; font-weight: bold; line-height: 1; border-radius: 0.35em; text-transform: uppercase; vertical-align: middle; margin-left: 0.5rem\">TIME</span>\\n</mark>\\n of ibuprofen. \\n<mark class=\"entity\" style=\"background: #aa9cfc; padding: 0.45em 0.6em; margin: 0 0.25em; line-height: 1; border-radius: 0.35em;\">\\n    Chest X-Ray\\n    <span style=\"font-size: 0.8em; font-weight: bold; line-height: 1; border-radius: 0.35em; text-transform: uppercase; vertical-align: middle; margin-left: 0.5rem\">PERSON</span>\\n</mark>\\n:</div>'"
            ]
          },
          "metadata": {},
          "execution_count": 19
        }
      ]
    },
    {
      "cell_type": "code",
      "metadata": {
        "colab": {
          "base_uri": "https://localhost:8080/"
        },
        "id": "5FaorFYX84bp",
        "outputId": "ca14fb95-244a-48f0-b342-fe815a308810"
      },
      "source": [
        "for ent in doc.ents:\n",
        "    print(ent.text, ent.label_)"
      ],
      "execution_count": 20,
      "outputs": [
        {
          "output_type": "stream",
          "name": "stdout",
          "text": [
            "Matias Molinas Birth PERSON\n",
            "10/03/1918 DATE\n",
            "54 CARDINAL\n",
            "5678906 CARDINAL\n",
            "Matias Molinas PERSON\n",
            "52 y QUANTITY\n",
            "50 mg TIME\n",
            "Chest X-Ray PERSON\n"
          ]
        }
      ]
    },
    {
      "cell_type": "code",
      "metadata": {
        "id": "N8w4E9SF9bvo"
      },
      "source": [
        "# The start_char of each entity PER\n",
        "per_starts = [ent.start_char for ent in doc.ents if ent.label_ == 'PERSON']\n",
        "\n",
        "# The end_char of each entity PER\n",
        "per_ends = [ent.end_char for ent in doc.ents if ent.label_ == 'PERSON']\n",
        "\n",
        "# print(f'per_start: {per_starts}\\nper_ends: {per_ends}')"
      ],
      "execution_count": null,
      "outputs": []
    },
    {
      "cell_type": "code",
      "metadata": {
        "id": "8XyAORDg9MEC"
      },
      "source": [
        "# colaboration https://github.com/mnsosa/ner/blob/main/ner_spanish_ialab.ipynb\n",
        "# Anonymization\n",
        "text_anon = doc.text[0:per_starts[0]]\n",
        "text_anon = text_anon + '<NOMBRE>'\n",
        "\n",
        "per = 1\n",
        "while per < len(per_starts):\n",
        "    text_anon = text_anon + doc.text[per_ends[per-1]:per_starts[per]] + '<NOMBRE> '\n",
        "    per = per + 1"
      ],
      "execution_count": 22,
      "outputs": []
    },
    {
      "cell_type": "code",
      "metadata": {
        "colab": {
          "base_uri": "https://localhost:8080/",
          "height": 0
        },
        "id": "k45sZWS99qWc",
        "outputId": "d41239ee-31fd-4a82-e898-f39d259bedf6"
      },
      "source": [
        "text_anon"
      ],
      "execution_count": 23,
      "outputs": [
        {
          "output_type": "execute_result",
          "data": {
            "application/vnd.google.colaboratory.intrinsic+json": {
              "type": "string"
            },
            "text/plain": [
              "'Name: <NOMBRE> date: 10/03/1918 (54) 342- 5678906 Significant Medical History Mr. <NOMBRE>  is a 52 y/o accountant with hypercholesterolemia and polycythemia vera who has been in relatively good health. Diagnostic: Patient needs to take 50 mg of ibuprofen. <NOMBRE> '"
            ]
          },
          "metadata": {},
          "execution_count": 23
        }
      ]
    },
    {
      "cell_type": "markdown",
      "metadata": {
        "id": "B3kk2yboZX-e"
      },
      "source": [
        "## Extract list of drugs and disease\n"
      ]
    },
    {
      "cell_type": "markdown",
      "metadata": {
        "id": "Vw1zusXjZ6Uw"
      },
      "source": [
        "Import librerias\n"
      ]
    },
    {
      "cell_type": "code",
      "metadata": {
        "id": "uifRQEF-Z5Eg"
      },
      "source": [
        "%%capture\n",
        "import requests"
      ],
      "execution_count": 1,
      "outputs": []
    },
    {
      "cell_type": "code",
      "metadata": {
        "id": "1pvZ2V63ZhGM"
      },
      "source": [
        "def Use_API(text, url=\"https://bern.korea.ac.kr/plain\"):          # API = https://bern.korea.ac.kr/#\n",
        "  return requests.post(url, data={'sample_text': text}).json()"
      ],
      "execution_count": 2,
      "outputs": []
    },
    {
      "cell_type": "code",
      "metadata": {
        "id": "m0CU4HtsZw4f"
      },
      "source": [
        "def Extraxtion_data(text,out,type):\n",
        "\n",
        "  denotations=out['denotations']\n",
        "  relavent_terms=[]\n",
        "  \n",
        "  if type=='drug':\n",
        "    drug_terms=[]\n",
        "    for i in denotations:\n",
        "      if i['obj']== 'drug':\n",
        "        drug_terms.append((i['span']['begin'],i['span']['end']))\n",
        "   \n",
        "    for i in drug_terms:\n",
        "      start=i[0]\n",
        "      end=i[1]\n",
        "      relavent_terms.append(text[start:end])\n",
        "\n",
        "  if type=='disease':\n",
        "    species_terms=[]\n",
        "    for i in denotations:\n",
        "      if i['obj']== 'disease':\n",
        "        species_terms.append((i['span']['begin'],i['span']['end']))\n",
        "    \n",
        "    for i in species_terms:\n",
        "      start=i[0]\n",
        "      end=i[1]\n",
        "      relavent_terms.append(text[start:end])\n",
        "\n",
        "\n",
        "  # if type=='species':\n",
        "  #   species_terms=[]\n",
        "  #   for i in denotations:\n",
        "  #     if i['obj']== 'species':\n",
        "  #       species_terms.append((i['span']['begin'],i['span']['end']))\n",
        "    \n",
        "  #   for i in species_terms:\n",
        "  #     start=i[0]\n",
        "  #     end=i[1]\n",
        "  #     relavent_terms.append(text[start:end])\n",
        "\n",
        "  return(relavent_terms)"
      ],
      "execution_count": 3,
      "outputs": []
    },
    {
      "cell_type": "code",
      "metadata": {
        "id": "H5z8GQnnbDc0"
      },
      "source": [
        "# text = \"X-rays were negative and physical assessment determined soft tissue damage to the lateral aspect of her ankle. She was initially treated with ice, an ace wrap, crutches and mild pain medications (Tylenol with codeine)\"\n",
        "text = \"Name: Matias Molinas Birth date: 10/03/1918 (54) 342- 5678906 Significant Medical History Mr. Matias Molinas is a 52 y/o accountant with hypercholesterolemia and polycythemia vera who has been in relatively good health. Diagnostic: Patient needs to take 50 mg of ibuprofen. Chest X-Ray:\""
      ],
      "execution_count": 4,
      "outputs": []
    },
    {
      "cell_type": "code",
      "metadata": {
        "id": "XiVj6O3ubEyj"
      },
      "source": [
        "out=Use_API(text)\n",
        "# print(out)\n",
        "# print(Extraxtion_data(text,out,'drug'))\n",
        "List_Drugs = Extraxtion_data(text,out,'drug')\n",
        "# print(Extraxtion_data(text,out,'disease'))\n",
        "List_Disease = Extraxtion_data(text,out,'disease')"
      ],
      "execution_count": 5,
      "outputs": []
    },
    {
      "cell_type": "code",
      "metadata": {
        "colab": {
          "base_uri": "https://localhost:8080/"
        },
        "id": "ntJMgy77eu9t",
        "outputId": "d79dce2c-b059-4fe9-ea23-87049371fcc0"
      },
      "source": [
        "print(List_Drugs, List_Disease)"
      ],
      "execution_count": 6,
      "outputs": [
        {
          "output_type": "stream",
          "name": "stdout",
          "text": [
            "['ibuprofen'] ['hypercholesterolemia', 'polycythemia vera']\n"
          ]
        }
      ]
    },
    {
      "cell_type": "markdown",
      "metadata": {
        "id": "aYAEoKMz0SID"
      },
      "source": [
        "## image extract (check input path)"
      ]
    },
    {
      "cell_type": "code",
      "metadata": {
        "id": "MR-KXSgZ0RCx"
      },
      "source": [
        "%%capture\n",
        "!pip install PyMuPDF\n",
        "import fitz"
      ],
      "execution_count": 8,
      "outputs": []
    },
    {
      "cell_type": "code",
      "metadata": {
        "id": "hxuZE90z1T5K",
        "colab": {
          "base_uri": "https://localhost:8080/"
        },
        "outputId": "3e66b942-b9ca-4da5-c97f-987070647982"
      },
      "source": [
        "file_path = input(\"Enter the PDF file path\")\n",
        "pdf_file = fitz.open(file_path)\n",
        "\n",
        "\n",
        "\n",
        "#Reading the location where to save the file\n",
        "location = input(\"Enter the location to save: \")\n",
        "\n",
        "\n",
        "#finding number of pages in the pdf\n",
        "number_of_pages = len(pdf_file)\n",
        "\n",
        "#iterating through each page in the pdf\n",
        "for current_page_index in range(number_of_pages):\n",
        "  #iterating through each image in every page of PDF\n",
        "  for img_index,img in enumerate(pdf_file.getPageImageList(current_page_index)):\n",
        "        xref = img[0]\n",
        "        image = fitz.Pixmap(pdf_file, xref)\n",
        "        #if it is a is GRAY or RGB image\n",
        "        if image.n < 5:        \n",
        "            image.writePNG(\"{}/image{}-{}.png\".format(location,current_page_index, img_index))\n",
        "        #if it is CMYK: convert to RGB first\n",
        "        else:                \n",
        "            new_image = fitz.Pixmap(fitz.csRGB, image)\n",
        "            new_image.writePNG(\"{}/image{}-{}.png\".foramt(location,current_page_index, img_index))\n",
        "            "
      ],
      "execution_count": 16,
      "outputs": [
        {
          "name": "stdout",
          "output_type": "stream",
          "text": [
            "Enter the PDF file path/content/Report.pdf\n",
            "Enter the location to save: /content/\n"
          ]
        },
        {
          "output_type": "stream",
          "name": "stderr",
          "text": [
            "Deprecation: 'getPageImageList' removed from class 'Document' after v1.19.0 - use 'get_page_images'.\n",
            "Deprecation: 'writePNG' removed from class 'Pixmap' after v1.19.0 - use 'save'.\n"
          ]
        }
      ]
    },
    {
      "cell_type": "markdown",
      "metadata": {
        "id": "BK6UPCMJ-PIQ"
      },
      "source": [
        "## Dataset"
      ]
    },
    {
      "cell_type": "code",
      "metadata": {
        "id": "K6Vs2uDn-UOY"
      },
      "source": [
        "%%capture\n",
        "!pip install kaggle --upgrade"
      ],
      "execution_count": 24,
      "outputs": []
    },
    {
      "cell_type": "code",
      "metadata": {
        "id": "4MiUtVk8KdQO"
      },
      "source": [
        "! mkdir ~/.kaggle # simplemente creo una carpeta en colab pero en la raiz"
      ],
      "execution_count": 25,
      "outputs": []
    },
    {
      "cell_type": "code",
      "metadata": {
        "id": "BF9JxOOeK1Gj"
      },
      "source": [
        "! cp kaggle.json ~/.kaggle/ # mueve el kaggle jonson para la carpeta que acabamos de crear"
      ],
      "execution_count": 26,
      "outputs": []
    },
    {
      "cell_type": "code",
      "metadata": {
        "id": "XkeF4SDELNnt"
      },
      "source": [
        "! chmod 600 ~/.kaggle/kaggle.json # es como el permiso para que funque"
      ],
      "execution_count": 27,
      "outputs": []
    },
    {
      "cell_type": "code",
      "metadata": {
        "id": "EROLUbsKLRfQ"
      },
      "source": [
        "%%capture\n",
        "! kaggle datasets download paultimothymooney/chest-xray-pneumonia"
      ],
      "execution_count": 28,
      "outputs": []
    },
    {
      "cell_type": "code",
      "metadata": {
        "id": "O3IEVTR5PMSd"
      },
      "source": [
        "! unzip chest-xray-pneumonia.zip"
      ],
      "execution_count": null,
      "outputs": []
    },
    {
      "cell_type": "code",
      "metadata": {
        "id": "H-fIjJ3ARPT5"
      },
      "source": [
        "%%capture\n",
        "!pip install -U tensorflow-addons"
      ],
      "execution_count": 30,
      "outputs": []
    },
    {
      "cell_type": "markdown",
      "metadata": {
        "id": "nLpRxWyIYFJz"
      },
      "source": [
        "## Create Baseline"
      ]
    },
    {
      "cell_type": "code",
      "metadata": {
        "id": "p1cR6W3wRgXt"
      },
      "source": [
        "%%capture\n",
        "import numpy as np\n",
        "import tensorflow as tf\n",
        "from tensorflow import keras\n",
        "from tensorflow.keras import layers\n",
        "import tensorflow_addons as tfa\n",
        "\n",
        "import numpy as np # linear algebra\n",
        "import pandas as pd # data processing, CSV file I/O (e.g. pd.read_csv)\n",
        "import cv2 # import cv2\n",
        "\n",
        "import matplotlib.pyplot as plt\n",
        "import seaborn as sns\n",
        "from PIL import Image\n",
        "import random"
      ],
      "execution_count": 37,
      "outputs": []
    },
    {
      "cell_type": "code",
      "metadata": {
        "id": "0xIx20zjR3Vd",
        "colab": {
          "base_uri": "https://localhost:8080/"
        },
        "outputId": "e5f7f517-c82a-4aad-ae64-5d01ecf726f4"
      },
      "source": [
        "import os\n",
        "# print(os.listdir(\"/content/chest_xray\"))"
      ],
      "execution_count": 34,
      "outputs": [
        {
          "output_type": "stream",
          "name": "stdout",
          "text": [
            "['__MACOSX', 'train', 'val', 'test', 'chest_xray']\n"
          ]
        }
      ]
    },
    {
      "cell_type": "code",
      "metadata": {
        "colab": {
          "base_uri": "https://localhost:8080/"
        },
        "id": "cYJOcDqZNAax",
        "outputId": "e1b78fbe-2169-4104-db55-33cc66294f48"
      },
      "source": [
        "DIR = os.listdir('/content/chest_xray')\n",
        "print(DIR)"
      ],
      "execution_count": 35,
      "outputs": [
        {
          "output_type": "stream",
          "name": "stdout",
          "text": [
            "['__MACOSX', 'train', 'val', 'test', 'chest_xray']\n"
          ]
        }
      ]
    },
    {
      "cell_type": "code",
      "metadata": {
        "id": "LUWpfXo2NPQH"
      },
      "source": [
        "DIR = os.listdir('/content/chest_xray')\n",
        "\n",
        "train_folder = '/content/chest_xray/train'\n",
        "test_folder = '/content/chest_xray/test'\n",
        "val_folder = '/content/chest_xray/val'"
      ],
      "execution_count": 42,
      "outputs": []
    },
    {
      "cell_type": "code",
      "metadata": {
        "id": "xzI5Eq9HOc10"
      },
      "source": [
        "IMG_SIZE = 50 # resize image, see  u  later             -----------------------------------------------------------------------"
      ],
      "execution_count": 39,
      "outputs": []
    },
    {
      "cell_type": "code",
      "metadata": {
        "id": "w93ib43SNPEo"
      },
      "source": [
        "labels = [\"NORMAL\", \"PNEUMONIA\"] # each folder has two sub folder name \"PNEUMONIA\", \"NORMAL\"\n",
        "\n",
        "def get_data_train(data_dir):\n",
        "    data = []\n",
        "    for label in labels:\n",
        "        path = os.path.join(data_dir, label)\n",
        "        class_num = labels.index(label)\n",
        "        for img in os.listdir(path):\n",
        "            try:\n",
        "                img_array = cv2.imread(os.path.join(path, img), cv2.IMREAD_GRAYSCALE)\n",
        "                new_array = cv2.resize(img_array, (IMG_SIZE, IMG_SIZE))\n",
        "                data.append([new_array, class_num])\n",
        "            except Exception as e:\n",
        "                print(e)\n",
        "    return np.array(data)"
      ],
      "execution_count": 43,
      "outputs": []
    },
    {
      "cell_type": "code",
      "metadata": {
        "id": "0XbnxVTeNO-u"
      },
      "source": [
        "train = get_data_train(train_folder)\n",
        "test = get_data_train(test_folder)\n",
        "val = get_data_train(val_folder)"
      ],
      "execution_count": null,
      "outputs": []
    },
    {
      "cell_type": "markdown",
      "metadata": {
        "id": "2H3cyJdRRno5"
      },
      "source": [
        "l = []                    <--------------- make the variable understandable"
      ]
    },
    {
      "cell_type": "code",
      "metadata": {
        "colab": {
          "base_uri": "https://localhost:8080/",
          "height": 360
        },
        "id": "TSGlFwcjNO7-",
        "outputId": "c3cefdb4-25f2-46ee-845d-a1f172f2d1f7"
      },
      "source": [
        "l = []\n",
        "for i in train:\n",
        "    if(i[1] == 0):\n",
        "        l.append(\"Normal\")\n",
        "    else:\n",
        "        l.append(\"Pneumonia\")\n",
        "        \n",
        "sns.countplot(l)"
      ],
      "execution_count": 47,
      "outputs": [
        {
          "output_type": "stream",
          "name": "stderr",
          "text": [
            "/usr/local/lib/python3.7/dist-packages/seaborn/_decorators.py:43: FutureWarning: Pass the following variable as a keyword arg: x. From version 0.12, the only valid positional argument will be `data`, and passing other arguments without an explicit keyword will result in an error or misinterpretation.\n",
            "  FutureWarning\n",
            "\n"
          ]
        },
        {
          "output_type": "execute_result",
          "data": {
            "text/plain": [
              "<matplotlib.axes._subplots.AxesSubplot at 0x7f8ff8bd0390>"
            ]
          },
          "metadata": {},
          "execution_count": 47
        },
        {
          "output_type": "display_data",
          "data": {
            "image/png": "[encoded data removed]",
            "text/plain": [
              "<Figure size 432x288 with 1 Axes>"
            ]
          },
          "metadata": {
            "needs_background": "light"
          }
        }
      ]
    },
    {
      "cell_type": "code",
      "metadata": {
        "id": "Zw_BPKDPWDMD"
      },
      "source": [
        "X_train = []\n",
        "y_train = []\n",
        "\n",
        "X_val = []\n",
        "y_val = []\n",
        "\n",
        "X_test = []\n",
        "y_test = []\n",
        "\n",
        "for feature, label in train:\n",
        "    X_train.append(feature)\n",
        "    y_train.append(label)\n",
        "\n",
        "for feature, label in test:\n",
        "    X_test.append(feature)\n",
        "    y_test.append(label)\n",
        "    \n",
        "for feature, label in val:\n",
        "    X_val.append(feature)\n",
        "    y_val.append(label)"
      ],
      "execution_count": 48,
      "outputs": []
    },
    {
      "cell_type": "code",
      "metadata": {
        "id": "VGgoQo12NOxn"
      },
      "source": [
        "X_train = np.array(X_train) / 255\n",
        "X_val = np.array(X_val) / 255\n",
        "X_test = np.array(X_test) / 255 # normalizacion"
      ],
      "execution_count": 49,
      "outputs": []
    },
    {
      "cell_type": "code",
      "metadata": {
        "colab": {
          "base_uri": "https://localhost:8080/"
        },
        "id": "UAtzXw0jWM1d",
        "outputId": "1cdf40e6-3ffe-4097-c304-43e26b2314e0"
      },
      "source": [
        "# print(X_test.shape, X_val.shape, X_test.shape )"
      ],
      "execution_count": 52,
      "outputs": [
        {
          "output_type": "stream",
          "name": "stdout",
          "text": [
            "(624, 50, 50) (16, 50, 50) (624, 50, 50)\n"
          ]
        }
      ]
    },
    {
      "cell_type": "code",
      "metadata": {
        "id": "F-eV12ODXoC2"
      },
      "source": [
        "X_train = X_train.reshape(-1, IMG_SIZE, IMG_SIZE, 1)\n",
        "y_train = np.array(y_train)\n",
        "\n",
        "X_val = X_val.reshape(-1, IMG_SIZE, IMG_SIZE, 1)\n",
        "y_val = np.array(y_val)\n",
        "\n",
        "X_test = X_test.reshape(-1, IMG_SIZE, IMG_SIZE, 1)\n",
        "y_test = np.array(y_test)"
      ],
      "execution_count": 53,
      "outputs": []
    },
    {
      "cell_type": "code",
      "metadata": {
        "colab": {
          "base_uri": "https://localhost:8080/"
        },
        "id": "lu-_ayERXs6d",
        "outputId": "9cdd2add-1b1f-42e2-8dd1-ca4ef8406e78"
      },
      "source": [
        "# print(X_test.shape, X_val.shape, X_test.shape )"
      ],
      "execution_count": 54,
      "outputs": [
        {
          "output_type": "stream",
          "name": "stdout",
          "text": [
            "(624, 50, 50, 1) (16, 50, 50, 1) (624, 50, 50, 1)\n"
          ]
        }
      ]
    },
    {
      "cell_type": "code",
      "metadata": {
        "id": "_G5LMT8SX38n"
      },
      "source": [
        "%%capture\n",
        "import tensorflow as tf\n",
        "from tensorflow.keras.layers import Flatten, Conv2D, Activation, Dense, Dropout, MaxPooling2D\n",
        "from tensorflow.keras.models import Sequential"
      ],
      "execution_count": 55,
      "outputs": []
    },
    {
      "cell_type": "markdown",
      "metadata": {
        "id": "PWZZSkJnYYyd"
      },
      "source": [
        "Create vanillia model "
      ]
    },
    {
      "cell_type": "code",
      "metadata": {
        "id": "GHxYFfQ4YcMx"
      },
      "source": [
        "model = Sequential()\n",
        "\n",
        "model.add(Conv2D(32, (3, 3), padding=\"same\", input_shape=X_train.shape[1:]))\n",
        "model.add(Activation(\"relu\"))\n",
        "model.add(MaxPooling2D(2, 2))\n",
        "model.add(Dropout(0.2))\n",
        "\n",
        "model.add(Conv2D(64, (3, 3), padding=\"same\"))\n",
        "model.add(Activation(\"relu\"))\n",
        "model.add(MaxPooling2D(2, 2))\n",
        "model.add(Dropout(0.2))\n",
        "\n",
        "model.add(Conv2D(128, (3, 3), padding=\"same\"))\n",
        "model.add(Activation(\"relu\"))\n",
        "model.add(MaxPooling2D(2, 2))\n",
        "model.add(Dropout(0.2))\n",
        "\n",
        "model.add(Flatten())\n",
        "model.add(Dense(128, activation=\"relu\"))\n",
        "\n",
        "model.add(Dense(1))\n",
        "model.add(Activation(\"sigmoid\"))"
      ],
      "execution_count": 56,
      "outputs": []
    },
    {
      "cell_type": "code",
      "metadata": {
        "id": "XobwekznYnoP"
      },
      "source": [
        "%%capture\n",
        "model.compile(loss=\"binary_crossentropy\", optimizer=\"adam\", metrics=[\"accuracy\"])\n",
        "history = model.fit(X_train, y_train, epochs=25, validation_data=(X_val, y_val), shuffle=True)\n",
        "scores = model.evaluate(X_test, y_test)"
      ],
      "execution_count": 74,
      "outputs": []
    },
    {
      "cell_type": "code",
      "metadata": {
        "id": "q4_tGfO2b4Cc"
      },
      "source": [
        "model.save(\"cnn_baseline.model\")"
      ],
      "execution_count": 66,
      "outputs": []
    },
    {
      "cell_type": "code",
      "metadata": {
        "colab": {
          "base_uri": "https://localhost:8080/"
        },
        "id": "Tpa-m_SrbKgG",
        "outputId": "6ee0f15c-642d-44ce-d456-3f346c58f787"
      },
      "source": [
        "# scores\n",
        "print(\"Test loss {}\".format(scores[0]))\n",
        "print(\"Test accuracy {}\".format(scores[1]))"
      ],
      "execution_count": 62,
      "outputs": [
        {
          "output_type": "stream",
          "name": "stdout",
          "text": [
            "Test loss 3.2666449546813965\n",
            "Test accuracy 0.7435897588729858\n"
          ]
        }
      ]
    },
    {
      "cell_type": "code",
      "metadata": {
        "colab": {
          "base_uri": "https://localhost:8080/",
          "height": 513
        },
        "id": "ICeiii6tbOOB",
        "outputId": "9919c6ac-63e3-444a-dd8b-e7b9237f54aa"
      },
      "source": [
        "accuracy = history.history['accuracy']\n",
        "val_accuracy = history.history['val_accuracy']\n",
        "loss = history.history['loss']\n",
        "val_loss = history.history['val_loss']\n",
        "epochs = range(len(accuracy))\n",
        "\n",
        "plt.plot(epochs, accuracy, \"b\", label=\"trainning accuracy\")\n",
        "plt.plot(epochs, val_accuracy, \"r\", label=\"validation accuracy\")\n",
        "plt.legend()\n",
        "plt.show()\n",
        "\n",
        "plt.plot(epochs, loss, \"b\", label=\"trainning loss\")\n",
        "plt.plot(epochs, val_loss, \"r\", label=\"validation loss\")\n",
        "plt.legend()\n",
        "plt.show()"
      ],
      "execution_count": 63,
      "outputs": [
        {
          "output_type": "display_data",
          "data": {
            "image/png": "[encoded data removed]",
            "text/plain": [
              "<Figure size 432x288 with 1 Axes>"
            ]
          },
          "metadata": {
            "needs_background": "light"
          }
        },
        {
          "output_type": "display_data",
          "data": {
            "image/png": "[encoded data removed]",
            "text/plain": [
              "<Figure size 432x288 with 1 Axes>"
            ]
          },
          "metadata": {
            "needs_background": "light"
          }
        }
      ]
    },
    {
      "cell_type": "code",
      "metadata": {
        "colab": {
          "base_uri": "https://localhost:8080/"
        },
        "id": "I2sb43qubvaA",
        "outputId": "4b02bfc2-a838-4174-dfd2-ba4dde37dee6"
      },
      "source": [
        "predict_x=model.predict(X_test) \n",
        "prediction=np.argmax(predict_x,axis=1)\n",
        "prediction[:15]"
      ],
      "execution_count": 76,
      "outputs": [
        {
          "output_type": "execute_result",
          "data": {
            "text/plain": [
              "array([0, 0, 0, 0, 0, 0, 0, 0, 0, 0, 0, 0, 0, 0, 0])"
            ]
          },
          "metadata": {},
          "execution_count": 76
        }
      ]
    },
    {
      "cell_type": "code",
      "metadata": {
        "id": "BpstZi5cbe8t"
      },
      "source": [
        "correct = np.nonzero(prediction == y_test)[0]\n",
        "incorrect = np.nonzero(prediction != y_test)[0]"
      ],
      "execution_count": 77,
      "outputs": []
    },
    {
      "cell_type": "code",
      "metadata": {
        "colab": {
          "base_uri": "https://localhost:8080/",
          "height": 296
        },
        "id": "rP2HzPY-d7Sr",
        "outputId": "7b953a8e-fa01-4d24-db0e-8525396109e1"
      },
      "source": [
        "# correc\n",
        "j = 0\n",
        "for i in correct[:6]:\n",
        "    plt.subplot(3,2,j+1)\n",
        "    plt.xticks([])\n",
        "    plt.yticks([])\n",
        "    plt.imshow(X_test[i].reshape(50,50), cmap=\"gray\", interpolation='none')\n",
        "    plt.title(\"Predicted Class {},Actual Class {}\".format(prediction[i], y_test[i]))\n",
        "    plt.xlabel(labels[prediction[i]])\n",
        "    plt.tight_layout()\n",
        "    j += 1"
      ],
      "execution_count": 78,
      "outputs": [
        {
          "output_type": "display_data",
          "data": {
            "image/png": "[encoded data removed]",
            "text/plain": [
              "<Figure size 432x288 with 6 Axes>"
            ]
          },
          "metadata": {}
        }
      ]
    },
    {
      "cell_type": "code",
      "metadata": {
        "colab": {
          "base_uri": "https://localhost:8080/",
          "height": 296
        },
        "id": "5MhV6gU3eioP",
        "outputId": "fa127971-e8eb-4563-c38c-b86561282ec6"
      },
      "source": [
        "# incorrect\n",
        "j = 0\n",
        "for i in incorrect[:6]:\n",
        "    plt.subplot(3,2,j+1)\n",
        "    plt.xticks([])\n",
        "    plt.yticks([])\n",
        "    plt.imshow(X_test[i].reshape(50,50), cmap=\"gray\", interpolation='none')\n",
        "    plt.title(\"Predicted Class {},Actual Class {}\".format(prediction[i], y_test[i]))\n",
        "    plt.xlabel(labels[prediction[i]])\n",
        "    plt.tight_layout()\n",
        "    j += 1"
      ],
      "execution_count": 79,
      "outputs": [
        {
          "output_type": "display_data",
          "data": {
            "image/png": "[encoded data removed]",
            "text/plain": [
              "<Figure size 432x288 with 6 Axes>"
            ]
          },
          "metadata": {}
        }
      ]
    },
    {
      "cell_type": "code",
      "metadata": {
        "id": "h24FFhnKcg6O"
      },
      "source": [
        "labels = [\"NORMAL\", \"PNEUMONIA\"]\n",
        "def prepare(filepath):\n",
        "    img_array = cv2.imread(filepath, cv2.IMREAD_GRAYSCALE)\n",
        "    new_array = cv2.resize(img_array, (IMG_SIZE, IMG_SIZE))\n",
        "    return new_array.reshape(-1, IMG_SIZE, IMG_SIZE, 1)\n",
        "\n",
        "model = tf.keras.models.load_model(\"cnn_baseline.model\") # load model"
      ],
      "execution_count": 75,
      "outputs": []
    },
    {
      "cell_type": "code",
      "metadata": {
        "id": "ouSTZpcFe1YL"
      },
      "source": [
        "labels = [\"NORMAL\", \"PNEUMONIA\"]\n",
        "def prepare(filepath):\n",
        "    img_array = cv2.imread(filepath, cv2.IMREAD_GRAYSCALE)\n",
        "    new_array = cv2.resize(img_array, (IMG_SIZE, IMG_SIZE))\n",
        "    return new_array.reshape(-1, IMG_SIZE, IMG_SIZE, 1)\n",
        "\n",
        "model = tf.keras.models.load_model(\"cnn_baseline.model\") # load model"
      ],
      "execution_count": 80,
      "outputs": []
    },
    {
      "cell_type": "markdown",
      "metadata": {
        "id": "hjEamiQfdidZ"
      },
      "source": [
        "## ViT"
      ]
    },
    {
      "cell_type": "code",
      "metadata": {
        "id": "0TgXuMcndgm7"
      },
      "source": [
        ""
      ],
      "execution_count": null,
      "outputs": []
    }
  ]
}