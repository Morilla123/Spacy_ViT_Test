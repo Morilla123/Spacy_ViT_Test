{
  "nbformat": 4,
  "nbformat_minor": 0,
  "metadata": {
    "colab": {
      "name": "Copia de Transformers_medicina_extraccion_2.ipynb",
      "provenance": [],
      "collapsed_sections": [],
      "authorship_tag": "ABX9TyPl+TmcrH9Tl6+3VduiizyI",
      "include_colab_link": true
    },
    "kernelspec": {
      "name": "python3",
      "display_name": "Python 3"
    },
    "language_info": {
      "name": "python"
    },
    "accelerator": "GPU"
  },
  "cells": [
    {
      "cell_type": "markdown",
      "metadata": {
        "id": "view-in-github",
        "colab_type": "text"
      },
      "source": [
        "<a href=\"https://colab.research.google.com/github/Morilla123/Curso/blob/main/Copia_de_Transformers_medicina_extraccion_2.ipynb\" target=\"_parent\"><img src=\"https://colab.research.google.com/assets/colab-badge.svg\" alt=\"Open In Colab\"/></a>"
      ]
    },
    {
      "cell_type": "markdown",
      "metadata": {
        "id": "CPH7fdOtZHYz"
      },
      "source": [
        "# Extraccion de informacion de reportes medicos\n",
        "\n",
        "El objetivo de este proyecto es extraer desde un reporte medico que contiene texto libre, informacion del paciente, informacion de la medicacion del paciente, y una imagen de un radiografia de torax, lo siguiente:\n",
        "\n",
        "- Texto del reporte de-identificado (sin informacion personal del paciente)\n",
        "- Medicamentos con los que es tratado el paciente\n",
        "- Prediccion de si en la radiografia es normal o presenta neumonia\n",
        "\n",
        "Documento a analizar: [Reporte](https://drive.google.com/file/d/15zA5XDQfrVIYZk0gHGLxQqt_up7-NjuP/view?usp=sharing)"
      ]
    },
    {
      "cell_type": "markdown",
      "metadata": {
        "id": "7xGbzCOpZNis"
      },
      "source": [
        "*1*) De-identificar texto (quitar informacion personal)"
      ]
    },
    {
      "cell_type": "code",
      "metadata": {
        "id": "gmq6uhQCZYNB"
      },
      "source": [
        ""
      ],
      "execution_count": null,
      "outputs": []
    },
    {
      "cell_type": "markdown",
      "metadata": {
        "id": "zbgoqD3EZQGR"
      },
      "source": [
        "2) Obtener medicamentos del paciente"
      ]
    },
    {
      "cell_type": "code",
      "metadata": {
        "id": "_yJC1aeSZc4G"
      },
      "source": [
        ""
      ],
      "execution_count": null,
      "outputs": []
    },
    {
      "cell_type": "markdown",
      "metadata": {
        "id": "GknBcOy1ZP42"
      },
      "source": [
        "3) Predecir si la radiografia corresponde a un paciente normal o con neumonia"
      ]
    },
    {
      "cell_type": "code",
      "metadata": {
        "id": "8q1YujdtZBuM"
      },
      "source": [
        ""
      ],
      "execution_count": null,
      "outputs": []
    },
    {
      "cell_type": "markdown",
      "metadata": {
        "id": "B3kk2yboZX-e"
      },
      "source": [
        "## Test ##\n"
      ]
    },
    {
      "cell_type": "markdown",
      "metadata": {
        "id": "Vw1zusXjZ6Uw"
      },
      "source": [
        "Import librerias\n"
      ]
    },
    {
      "cell_type": "code",
      "metadata": {
        "id": "uifRQEF-Z5Eg"
      },
      "source": [
        "import requests"
      ],
      "execution_count": null,
      "outputs": []
    },
    {
      "cell_type": "code",
      "metadata": {
        "id": "1pvZ2V63ZhGM"
      },
      "source": [
        "def Use_API(text, url=\"https://bern.korea.ac.kr/plain\"):          # API = https://bern.korea.ac.kr/#\n",
        "  return requests.post(url, data={'sample_text': text}).json()"
      ],
      "execution_count": null,
      "outputs": []
    },
    {
      "cell_type": "code",
      "metadata": {
        "id": "m0CU4HtsZw4f"
      },
      "source": [
        "def Extraxtion_data(text,out,type):\n",
        "\n",
        "  denotations=out['denotations']\n",
        "  relavent_terms=[]\n",
        "  \n",
        "  if type=='drug':\n",
        "    drug_terms=[]\n",
        "    for i in denotations:\n",
        "      if i['obj']== 'drug':\n",
        "        drug_terms.append((i['span']['begin'],i['span']['end']))\n",
        "   \n",
        "    for i in drug_terms:\n",
        "      start=i[0]\n",
        "      end=i[1]\n",
        "      relavent_terms.append(text[start:end])\n",
        "\n",
        "  if type=='disease':\n",
        "    species_terms=[]\n",
        "    for i in denotations:\n",
        "      if i['obj']== 'disease':\n",
        "        species_terms.append((i['span']['begin'],i['span']['end']))\n",
        "    \n",
        "    for i in species_terms:\n",
        "      start=i[0]\n",
        "      end=i[1]\n",
        "      relavent_terms.append(text[start:end])\n",
        "\n",
        "\n",
        "  # if type=='species':\n",
        "  #   species_terms=[]\n",
        "  #   for i in denotations:\n",
        "  #     if i['obj']== 'species':\n",
        "  #       species_terms.append((i['span']['begin'],i['span']['end']))\n",
        "    \n",
        "  #   for i in species_terms:\n",
        "  #     start=i[0]\n",
        "  #     end=i[1]\n",
        "  #     relavent_terms.append(text[start:end])\n",
        "\n",
        "  return(relavent_terms)"
      ],
      "execution_count": null,
      "outputs": []
    },
    {
      "cell_type": "code",
      "metadata": {
        "id": "H5z8GQnnbDc0"
      },
      "source": [
        "# text = \"X-rays were negative and physical assessment determined soft tissue damage to the lateral aspect of her ankle. She was initially treated with ice, an ace wrap, crutches and mild pain medications (Tylenol with codeine)\"\n",
        "text = \"Name: Matias Molinas Birth date: 10/03/1918 (54) 342- 5678906 Significant Medical History Mr. Matias Molinas is a 52 y/o accountant with hypercholesterolemia and polycythemia vera who has been in relatively good health. Diagnostic: Patient needs to take 50 mg of ibuprofen. Chest X-Ray:\""
      ],
      "execution_count": 10,
      "outputs": []
    },
    {
      "cell_type": "code",
      "metadata": {
        "colab": {
          "base_uri": "https://localhost:8080/"
        },
        "id": "XiVj6O3ubEyj",
        "outputId": "77aa322b-ba0b-4766-9463-f705dad0ce7e"
      },
      "source": [
        "out=Use_API(text)\n",
        "# print(out)\n",
        "# print(Extraxtion_data(text,out,'drug'))\n",
        "List_Drugs = Extraxtion_data(text,out,'drug')\n",
        "# print(Extraxtion_data(text,out,'disease'))\n",
        "List_Disease = Extraxtion_data(text,out,'disease')"
      ],
      "execution_count": null,
      "outputs": [
        {
          "output_type": "stream",
          "name": "stdout",
          "text": [
            "['ibuprofen']\n",
            "['hypercholesterolemia', 'polycythemia vera']\n"
          ]
        }
      ]
    },
    {
      "cell_type": "code",
      "metadata": {
        "colab": {
          "base_uri": "https://localhost:8080/"
        },
        "id": "ntJMgy77eu9t",
        "outputId": "e13f133a-c204-46ab-8192-9627a815b18e"
      },
      "source": [
        "print(List_Drugs)"
      ],
      "execution_count": null,
      "outputs": [
        {
          "output_type": "stream",
          "name": "stdout",
          "text": [
            "['ibuprofen']\n"
          ]
        }
      ]
    },
    {
      "cell_type": "markdown",
      "metadata": {
        "id": "aYAEoKMz0SID"
      },
      "source": [
        "## image extract ##"
      ]
    },
    {
      "cell_type": "code",
      "metadata": {
        "colab": {
          "base_uri": "https://localhost:8080/"
        },
        "id": "MR-KXSgZ0RCx",
        "outputId": "fdead63e-3e1d-4081-c4ed-428ffb223256"
      },
      "source": [
        "!pip install PyMuPDF"
      ],
      "execution_count": 1,
      "outputs": [
        {
          "output_type": "stream",
          "name": "stdout",
          "text": [
            "Collecting PyMuPDF\n",
            "  Downloading PyMuPDF-1.19.1-cp37-cp37m-manylinux_2_12_x86_64.manylinux2010_x86_64.whl (8.7 MB)\n",
            "\u001b[K     |████████████████████████████████| 8.7 MB 3.5 MB/s \n",
            "\u001b[?25hInstalling collected packages: PyMuPDF\n",
            "Successfully installed PyMuPDF-1.19.1\n"
          ]
        }
      ]
    },
    {
      "cell_type": "code",
      "metadata": {
        "id": "o9BnXslF04Rf"
      },
      "source": [
        "import fitz"
      ],
      "execution_count": 2,
      "outputs": []
    },
    {
      "cell_type": "code",
      "metadata": {
        "id": "hxuZE90z1T5K",
        "colab": {
          "base_uri": "https://localhost:8080/"
        },
        "outputId": "97b6ea35-071b-4d99-ea72-461502928190"
      },
      "source": [
        "file_path = input(\"Enter the PDF file path\")\n",
        "pdf_file = fitz.open(file_path)\n",
        "\n",
        "#Reading the location where to save the file\n",
        "location = input(\"Enter the location to save: \")\n",
        "\n",
        "#finding number of pages in the pdf\n",
        "number_of_pages = len(pdf_file)\n",
        "\n",
        "#iterating through each page in the pdf\n",
        "for current_page_index in range(number_of_pages):\n",
        "  #iterating through each image in every page of PDF\n",
        "  for img_index,img in enumerate(pdf_file.getPageImageList(current_page_index)):\n",
        "        xref = img[0]\n",
        "        image = fitz.Pixmap(pdf_file, xref)\n",
        "        #if it is a is GRAY or RGB image\n",
        "        if image.n < 5:        \n",
        "            image.writePNG(\"{}/image{}-{}.png\".format(location,current_page_index, img_index))\n",
        "        #if it is CMYK: convert to RGB first\n",
        "        else:                \n",
        "            new_image = fitz.Pixmap(fitz.csRGB, image)\n",
        "            new_image.writePNG(\"{}/image{}-{}.png\".foramt(location,current_page_index, img_index))\n",
        "            "
      ],
      "execution_count": 3,
      "outputs": [
        {
          "name": "stdout",
          "output_type": "stream",
          "text": [
            "Enter the PDF file pathReport.pdf\n",
            "Enter the location to save: /content/pdf\n"
          ]
        },
        {
          "output_type": "stream",
          "name": "stderr",
          "text": [
            "Deprecation: 'getPageImageList' removed from class 'Document' after v1.19.0 - use 'get_page_images'.\n",
            "Deprecation: 'writePNG' removed from class 'Pixmap' after v1.19.0 - use 'save'.\n"
          ]
        }
      ]
    },
    {
      "cell_type": "markdown",
      "metadata": {
        "id": "GEFQ3mjY5Qt0"
      },
      "source": [
        "## Anonimizacion de nombres"
      ]
    },
    {
      "cell_type": "code",
      "metadata": {
        "id": "1vFnWc-N5QGj"
      },
      "source": [
        "%%capture\n",
        "! pip install transformers datasets\n",
        "from transformers import AutoTokenizer, TFAutoModelForQuestionAnswering\n",
        "import tensorflow as tf\n",
        "!pip install spacy\n",
        "from spacy import displacy\n",
        "import spacy"
      ],
      "execution_count": 8,
      "outputs": []
    },
    {
      "cell_type": "markdown",
      "metadata": {
        "id": "i8S8nYc57Vnx"
      },
      "source": [
        "text = \"Name: Matias Molinas Birth date: 10/03/1918 (54) 342- 5678906 Significant Medical History Mr. Matias Molinas is a 52 y/o accountant with hypercholesterolemia and polycythemia vera who has been in relatively good health. Diagnostic: Patient needs to take 50 mg of ibuprofen. Chest X-Ray:\"\n"
      ]
    },
    {
      "cell_type": "code",
      "metadata": {
        "id": "48XYhrJX5w2h"
      },
      "source": [
        "nlp = spacy.load(\"en_core_web_sm\")"
      ],
      "execution_count": 9,
      "outputs": []
    },
    {
      "cell_type": "code",
      "metadata": {
        "colab": {
          "base_uri": "https://localhost:8080/",
          "height": 165
        },
        "id": "tw-iT7oj5n7E",
        "outputId": "8ca381ae-7f07-4f89-ea48-7c7e6e264992"
      },
      "source": [
        "doc = nlp(text)\n",
        "displacy.render(doc, style='ent')"
      ],
      "execution_count": 14,
      "outputs": [
        {
          "output_type": "execute_result",
          "data": {
            "application/vnd.google.colaboratory.intrinsic+json": {
              "type": "string"
            },
            "text/plain": [
              "'<div class=\"entities\" style=\"line-height: 2.5; direction: ltr\">Name: \\n<mark class=\"entity\" style=\"background: #aa9cfc; padding: 0.45em 0.6em; margin: 0 0.25em; line-height: 1; border-radius: 0.35em;\">\\n    Matias Molinas Birth\\n    <span style=\"font-size: 0.8em; font-weight: bold; line-height: 1; border-radius: 0.35em; text-transform: uppercase; vertical-align: middle; margin-left: 0.5rem\">PERSON</span>\\n</mark>\\n date: \\n<mark class=\"entity\" style=\"background: #bfe1d9; padding: 0.45em 0.6em; margin: 0 0.25em; line-height: 1; border-radius: 0.35em;\">\\n    10/03/1918\\n    <span style=\"font-size: 0.8em; font-weight: bold; line-height: 1; border-radius: 0.35em; text-transform: uppercase; vertical-align: middle; margin-left: 0.5rem\">DATE</span>\\n</mark>\\n (\\n<mark class=\"entity\" style=\"background: #e4e7d2; padding: 0.45em 0.6em; margin: 0 0.25em; line-height: 1; border-radius: 0.35em;\">\\n    54\\n    <span style=\"font-size: 0.8em; font-weight: bold; line-height: 1; border-radius: 0.35em; text-transform: uppercase; vertical-align: middle; margin-left: 0.5rem\">CARDINAL</span>\\n</mark>\\n) 342- \\n<mark class=\"entity\" style=\"background: #e4e7d2; padding: 0.45em 0.6em; margin: 0 0.25em; line-height: 1; border-radius: 0.35em;\">\\n    5678906\\n    <span style=\"font-size: 0.8em; font-weight: bold; line-height: 1; border-radius: 0.35em; text-transform: uppercase; vertical-align: middle; margin-left: 0.5rem\">CARDINAL</span>\\n</mark>\\n Significant Medical History Mr. \\n<mark class=\"entity\" style=\"background: #aa9cfc; padding: 0.45em 0.6em; margin: 0 0.25em; line-height: 1; border-radius: 0.35em;\">\\n    Matias Molinas\\n    <span style=\"font-size: 0.8em; font-weight: bold; line-height: 1; border-radius: 0.35em; text-transform: uppercase; vertical-align: middle; margin-left: 0.5rem\">PERSON</span>\\n</mark>\\n is a \\n<mark class=\"entity\" style=\"background: #e4e7d2; padding: 0.45em 0.6em; margin: 0 0.25em; line-height: 1; border-radius: 0.35em;\">\\n    52 y\\n    <span style=\"font-size: 0.8em; font-weight: bold; line-height: 1; border-radius: 0.35em; text-transform: uppercase; vertical-align: middle; margin-left: 0.5rem\">QUANTITY</span>\\n</mark>\\n/o accountant with hypercholesterolemia and polycythemia vera who has been in relatively good health. Diagnostic: Patient needs to take \\n<mark class=\"entity\" style=\"background: #bfe1d9; padding: 0.45em 0.6em; margin: 0 0.25em; line-height: 1; border-radius: 0.35em;\">\\n    50 mg\\n    <span style=\"font-size: 0.8em; font-weight: bold; line-height: 1; border-radius: 0.35em; text-transform: uppercase; vertical-align: middle; margin-left: 0.5rem\">TIME</span>\\n</mark>\\n of ibuprofen. \\n<mark class=\"entity\" style=\"background: #aa9cfc; padding: 0.45em 0.6em; margin: 0 0.25em; line-height: 1; border-radius: 0.35em;\">\\n    Chest X-Ray\\n    <span style=\"font-size: 0.8em; font-weight: bold; line-height: 1; border-radius: 0.35em; text-transform: uppercase; vertical-align: middle; margin-left: 0.5rem\">PERSON</span>\\n</mark>\\n:</div>'"
            ]
          },
          "metadata": {},
          "execution_count": 14
        }
      ]
    },
    {
      "cell_type": "code",
      "metadata": {
        "colab": {
          "base_uri": "https://localhost:8080/"
        },
        "id": "5FaorFYX84bp",
        "outputId": "e0ea2872-b093-4e80-d373-8f142a3c45e8"
      },
      "source": [
        "for ent in doc.ents:\n",
        "    print(ent.text, ent.label_)"
      ],
      "execution_count": 15,
      "outputs": [
        {
          "output_type": "stream",
          "name": "stdout",
          "text": [
            "Matias Molinas Birth PERSON\n",
            "10/03/1918 DATE\n",
            "54 CARDINAL\n",
            "5678906 CARDINAL\n",
            "Matias Molinas PERSON\n",
            "52 y QUANTITY\n",
            "50 mg TIME\n",
            "Chest X-Ray PERSON\n"
          ]
        }
      ]
    },
    {
      "cell_type": "code",
      "metadata": {
        "colab": {
          "base_uri": "https://localhost:8080/"
        },
        "id": "N8w4E9SF9bvo",
        "outputId": "898eaf79-b407-4973-f302-bf5f28279283"
      },
      "source": [
        "# The start_char of each entity PER\n",
        "per_starts = [ent.start_char for ent in doc.ents if ent.label_ == 'PERSON']\n",
        "\n",
        "# The end_char of each entity PER\n",
        "per_ends = [ent.end_char for ent in doc.ents if ent.label_ == 'PERSON']\n",
        "\n",
        "print(f'per_start: {per_starts}\\nper_ends: {per_ends}')"
      ],
      "execution_count": 19,
      "outputs": [
        {
          "output_type": "stream",
          "name": "stdout",
          "text": [
            "per_start: [6, 94, 274]\n",
            "per_ends: [26, 108, 285]\n"
          ]
        }
      ]
    },
    {
      "cell_type": "code",
      "metadata": {
        "id": "8XyAORDg9MEC"
      },
      "source": [
        "# colaboration https://github.com/mnsosa/ner/blob/main/ner_spanish_ialab.ipynb\n",
        "# Anonymization\n",
        "text_anon = doc.text[0:per_starts[0]]\n",
        "text_anon = text_anon + '<NOMBRE>'\n",
        "\n",
        "per = 1\n",
        "while per < len(per_starts):\n",
        "    text_anon = text_anon + doc.text[per_ends[per-1]:per_starts[per]] + '<NOMBRE> '\n",
        "    per = per + 1"
      ],
      "execution_count": 20,
      "outputs": []
    },
    {
      "cell_type": "code",
      "metadata": {
        "colab": {
          "base_uri": "https://localhost:8080/",
          "height": 54
        },
        "id": "k45sZWS99qWc",
        "outputId": "193ecbe3-5106-4e26-ae92-d1728576eeec"
      },
      "source": [
        "text_anon"
      ],
      "execution_count": 21,
      "outputs": [
        {
          "output_type": "execute_result",
          "data": {
            "application/vnd.google.colaboratory.intrinsic+json": {
              "type": "string"
            },
            "text/plain": [
              "'Name: <NOMBRE> date: 10/03/1918 (54) 342- 5678906 Significant Medical History Mr. <NOMBRE>  is a 52 y/o accountant with hypercholesterolemia and polycythemia vera who has been in relatively good health. Diagnostic: Patient needs to take 50 mg of ibuprofen. <NOMBRE> '"
            ]
          },
          "metadata": {},
          "execution_count": 21
        }
      ]
    },
    {
      "cell_type": "markdown",
      "metadata": {
        "id": "BK6UPCMJ-PIQ"
      },
      "source": [
        "## VisionTreansformers"
      ]
    },
    {
      "cell_type": "code",
      "metadata": {
        "id": "K6Vs2uDn-UOY"
      },
      "source": [
        "%%capture\n",
        "!pip install kaggle --upgrade"
      ],
      "execution_count": 1,
      "outputs": []
    },
    {
      "cell_type": "code",
      "metadata": {
        "id": "4MiUtVk8KdQO"
      },
      "source": [
        "! mkdir ~/.kaggle # simplemente creo una carpeta en colab pero en la raiz"
      ],
      "execution_count": null,
      "outputs": []
    },
    {
      "cell_type": "code",
      "metadata": {
        "id": "BF9JxOOeK1Gj"
      },
      "source": [
        "! cp kaggle.json ~/.kaggle/ # mueve el kaggle jonson para la carpeta que acabamos de crear"
      ],
      "execution_count": 6,
      "outputs": []
    },
    {
      "cell_type": "code",
      "metadata": {
        "id": "XkeF4SDELNnt"
      },
      "source": [
        "! chmod 600 ~/.kaggle/kaggle.json # es como el permiso para que funque"
      ],
      "execution_count": 7,
      "outputs": []
    },
    {
      "cell_type": "code",
      "metadata": {
        "colab": {
          "base_uri": "https://localhost:8080/"
        },
        "id": "EROLUbsKLRfQ",
        "outputId": "b32f9987-c558-42c1-a262-2e6af06796b6"
      },
      "source": [
        "! kaggle datasets download paultimothymooney/chest-xray-pneumonia"
      ],
      "execution_count": 10,
      "outputs": [
        {
          "output_type": "stream",
          "name": "stdout",
          "text": [
            "Downloading chest-xray-pneumonia.zip to /content\n",
            "100% 2.29G/2.29G [00:26<00:00, 32.8MB/s]\n",
            "100% 2.29G/2.29G [00:26<00:00, 91.3MB/s]\n"
          ]
        }
      ]
    },
    {
      "cell_type": "code",
      "metadata": {
        "id": "O3IEVTR5PMSd"
      },
      "source": [
        "! unzip chest-xray-pneumonia.zip"
      ],
      "execution_count": null,
      "outputs": []
    },
    {
      "cell_type": "code",
      "metadata": {
        "id": "H-fIjJ3ARPT5"
      },
      "source": [
        "%%capture\n",
        "!pip install -U tensorflow-addons"
      ],
      "execution_count": 12,
      "outputs": []
    },
    {
      "cell_type": "code",
      "metadata": {
        "id": "p1cR6W3wRgXt"
      },
      "source": [
        "%%capture\n",
        "import numpy as np\n",
        "import tensorflow as tf\n",
        "from tensorflow import keras\n",
        "from tensorflow.keras import layers\n",
        "import tensorflow_addons as tfa"
      ],
      "execution_count": 13,
      "outputs": []
    },
    {
      "cell_type": "code",
      "metadata": {
        "id": "0xIx20zjR3Vd"
      },
      "source": [
        ""
      ],
      "execution_count": null,
      "outputs": []
    }
  ]
}