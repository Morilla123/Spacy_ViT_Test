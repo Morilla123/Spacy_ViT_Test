{
  "nbformat": 4,
  "nbformat_minor": 0,
  "metadata": {
    "colab": {
      "name": "Doble_Mnist_github.ipynb",
      "provenance": [],
      "authorship_tag": "ABX9TyP58FsUGfn9ENuJ/pHeIKX3",
      "include_colab_link": true
    },
    "kernelspec": {
      "name": "python3",
      "display_name": "Python 3"
    },
    "language_info": {
      "name": "python"
    },
    "accelerator": "GPU"
  },
  "cells": [
    {
      "cell_type": "markdown",
      "metadata": {
        "id": "view-in-github",
        "colab_type": "text"
      },
      "source": [
        "<a href=\"https://colab.research.google.com/github/Morilla123/Curso/blob/main/Doble_Mnist_github.ipynb\" target=\"_parent\"><img src=\"https://colab.research.google.com/assets/colab-badge.svg\" alt=\"Open In Colab\"/></a>"
      ]
    },
    {
      "cell_type": "code",
      "execution_count": 1,
      "metadata": {
        "id": "L0aNOTP19iKW"
      },
      "outputs": [],
      "source": [
        "import random\n",
        "\n",
        "import numpy as np\n",
        "from skimage.transform import resize\n",
        "\n",
        "from keras.datasets import mnist\n",
        "from keras.utils import np_utils\n",
        "\n",
        "import matplotlib.pyplot as plt\n",
        "plt.style.use('ggplot')"
      ]
    },
    {
      "cell_type": "code",
      "source": [
        "mnist_img_height , mnist_img_width = 28 , 28\n",
        "(x_train,y_train), (x_test, y_test) = mnist.load_data()"
      ],
      "metadata": {
        "colab": {
          "base_uri": "https://localhost:8080/"
        },
        "id": "jG4qNEQK942p",
        "outputId": "e4becd49-06aa-43ab-ca40-1e6c826efb2c"
      },
      "execution_count": 2,
      "outputs": [
        {
          "output_type": "stream",
          "name": "stdout",
          "text": [
            "Downloading data from https://storage.googleapis.com/tensorflow/tf-keras-datasets/mnist.npz\n",
            "11493376/11490434 [==============================] - 0s 0us/step\n",
            "11501568/11490434 [==============================] - 0s 0us/step\n"
          ]
        }
      ]
    },
    {
      "cell_type": "code",
      "source": [
        "print(f\"Number of train images:{x_train.shape[0]}\")\n",
        "print(f\"Number of test images:{x_test.shape[0]}\")"
      ],
      "metadata": {
        "colab": {
          "base_uri": "https://localhost:8080/"
        },
        "id": "q4hEBfD894jr",
        "outputId": "f6228951-80d7-4f64-f382-ca988070688f"
      },
      "execution_count": 3,
      "outputs": [
        {
          "output_type": "stream",
          "name": "stdout",
          "text": [
            "Number of train images:60000\n",
            "Number of test images:10000\n"
          ]
        }
      ]
    },
    {
      "cell_type": "code",
      "source": [
        "def build_sequence_mnist(data,labels,dataset_size,IS_TRAIN=True):\n",
        "    \n",
        "    # sequence data size\n",
        "    seq_img_height = 64\n",
        "    seq_img_width = 64\n",
        "    \n",
        "    seq_data = np.ndarray(shape=(dataset_size,seq_img_height,seq_img_width),\n",
        "                           dtype=np.float32)\n",
        "    seq_labels = [] \n",
        "    \n",
        "    for i in range(0,dataset_size):\n",
        "        \n",
        "        #Pick a random number of digits to be in the dataset\n",
        "        # num_digits = random.randint(1,2)\n",
        "        \n",
        "        s_indices = [random.randint(0,len(data)-1) for p in range(0,2)]\n",
        "\n",
        "        if IS_TRAIN:\n",
        "          # concatenating images and labels together\n",
        "          new_image = np.hstack([x_train[index] for index in s_indices])\n",
        "          new_label =  [y_train[index] for index in s_indices]\n",
        "        else:\n",
        "\n",
        "          new_image = np.hstack([x_test[index] for index in s_indices])\n",
        "          new_label =  [y_test[index] for index in s_indices]\n",
        "        \n",
        "        \n",
        "        #Resize image\n",
        "        new_image = resize(new_image,(seq_img_height,seq_img_width))\n",
        "        \n",
        "        seq_data[i,:,:] = new_image\n",
        "        seq_labels.append(tuple(new_label))\n",
        "        \n",
        "    \n",
        "    #Return the synthetic dataset\n",
        "    return seq_data,seq_labels"
      ],
      "metadata": {
        "id": "wLXucxX--HhT"
      },
      "execution_count": 4,
      "outputs": []
    },
    {
      "cell_type": "code",
      "source": [
        "x_seq_train,y_seq_train = build_sequence_mnist(x_train,y_train,60000)\n",
        "x_seq_test,y_seq_test = build_sequence_mnist(x_test,y_test,10000,IS_TRAIN=False)"
      ],
      "metadata": {
        "id": "SdrpiA9m-Pyn"
      },
      "execution_count": 5,
      "outputs": []
    },
    {
      "cell_type": "code",
      "source": [
        "RANDOM_IMG_TO_SHOW = 123\n",
        "plt.figure()\n",
        "plt.imshow(x_seq_test[RANDOM_IMG_TO_SHOW], cmap='gray')\n",
        "plt.title(\"Labeled as: {}\".format(''.join(str(i) for i in y_seq_test[RANDOM_IMG_TO_SHOW])))\n",
        "plt.grid(b=None)\n",
        "plt.show()"
      ],
      "metadata": {
        "colab": {
          "base_uri": "https://localhost:8080/",
          "height": 282
        },
        "id": "FafCrs8_-2cU",
        "outputId": "648bb368-5a83-4993-a57c-70cd0b4c2153"
      },
      "execution_count": 6,
      "outputs": [
        {
          "output_type": "display_data",
          "data": {
            "image/png": "[encoded data removed]",
            "text/plain": [
              "<Figure size 432x288 with 1 Axes>"
            ]
          },
          "metadata": {
            "needs_background": "light"
          }
        }
      ]
    },
    {
      "cell_type": "code",
      "source": [
        "x_seq_test[RANDOM_IMG_TO_SHOW].shape"
      ],
      "metadata": {
        "colab": {
          "base_uri": "https://localhost:8080/"
        },
        "id": "EdGe7J503f2Y",
        "outputId": "1906d657-b659-4450-b7fe-37760cce7e71"
      },
      "execution_count": 7,
      "outputs": [
        {
          "output_type": "execute_result",
          "data": {
            "text/plain": [
              "(64, 64)"
            ]
          },
          "metadata": {},
          "execution_count": 7
        }
      ]
    },
    {
      "cell_type": "code",
      "source": [
        "#Converting labels to One-hot representations of shape (set_size,digits,classes)\n",
        "possible_classes = 10\n",
        "\n",
        "def convert_labels(labels):\n",
        "        \n",
        "    #Declare output ndarrays\n",
        "    dig0_arr = np.ndarray(shape=(len(labels),possible_classes))\n",
        "    dig1_arr = np.ndarray(shape=(len(labels),possible_classes))\n",
        "\n",
        "    \n",
        "    for index,label in enumerate(labels):\n",
        "        \n",
        "        dig0_arr[index,:] = np_utils.to_categorical(label[0],possible_classes)\n",
        "        dig1_arr[index,:] = np_utils.to_categorical(label[1],possible_classes)\n",
        "        \n",
        "    return [dig0_arr,dig1_arr]"
      ],
      "metadata": {
        "id": "GzJQH8ME_Fp0"
      },
      "execution_count": 8,
      "outputs": []
    },
    {
      "cell_type": "code",
      "source": [
        "train_labels = convert_labels(y_seq_train)\n",
        "test_labels = convert_labels(y_seq_test)"
      ],
      "metadata": {
        "id": "fQzO4l3Z_JhU"
      },
      "execution_count": 9,
      "outputs": []
    },
    {
      "cell_type": "code",
      "source": [
        "np.shape(test_labels[0])"
      ],
      "metadata": {
        "colab": {
          "base_uri": "https://localhost:8080/"
        },
        "id": "fSqWWS9W_Lwk",
        "outputId": "b85d354b-ab9b-427d-c359-275d4423463d"
      },
      "execution_count": 10,
      "outputs": [
        {
          "output_type": "execute_result",
          "data": {
            "text/plain": [
              "(10000, 10)"
            ]
          },
          "metadata": {},
          "execution_count": 10
        }
      ]
    },
    {
      "cell_type": "code",
      "source": [
        "import tensorflow as tf\n",
        "from tensorflow.keras import  applications\n",
        "from tensorflow.keras.models import Sequential\n",
        "from tensorflow.keras.layers import Conv2D, MaxPooling2D, Flatten, BatchNormalization, Lambda, LSTM,Input, TimeDistributed,Activation, Dropout, Dense\n",
        "from tensorflow.keras.optimizers import RMSprop, Adam\n",
        "from tensorflow.keras import layers, Model\n",
        "\n",
        "nb_classes = 10\n",
        "\n",
        "img_rows = 64\n",
        "img_cols = 64\n",
        "img_channels = 1\n",
        "\n",
        "#number of convulation filters to use\n",
        "nb_filters = 32\n",
        "# size of pooling area for max pooling\n",
        "pool_size = (2, 2)\n",
        "# convolution kernel size\n",
        "kernel_size = (3, 3)\n"
      ],
      "metadata": {
        "id": "g0nd3tq1_oFo"
      },
      "execution_count": 11,
      "outputs": []
    },
    {
      "cell_type": "code",
      "source": [
        "inputs = tf.keras.layers.Input(shape=(None,img_rows,img_cols,img_channels))"
      ],
      "metadata": {
        "id": "yXvdeFlSDa_S"
      },
      "execution_count": 12,
      "outputs": []
    },
    {
      "cell_type": "code",
      "source": [
        "cov = TimeDistributed(Conv2D(nb_filters,kernel_size,padding='same'))(inputs)\n",
        "cov = TimeDistributed(Activation('relu'))(cov)\n",
        "cov = TimeDistributed(BatchNormalization())(cov)\n",
        "cov = TimeDistributed(Conv2D(nb_filters,kernel_size))(cov)\n",
        "cov = TimeDistributed(Activation('relu'))(cov)\n",
        "cov = TimeDistributed(BatchNormalization())(cov)\n",
        "cov = TimeDistributed(MaxPooling2D(pool_size=pool_size))(cov)\n",
        "cov = TimeDistributed(Dropout(0.25))(cov)\n",
        "cov_out = TimeDistributed(Flatten())(cov)"
      ],
      "metadata": {
        "id": "tnC51nW8F3hF"
      },
      "execution_count": 13,
      "outputs": []
    },
    {
      "cell_type": "code",
      "source": [
        "encoded_vid = LSTM(64,return_sequences=True)(cov_out)\n",
        "encoded_vid = TimeDistributed(Dense(32, activation='relu'))(encoded_vid)\n",
        "encoded_vid = Dropout(0.25)(encoded_vid)"
      ],
      "metadata": {
        "id": "sPapU2dIGS8D"
      },
      "execution_count": 14,
      "outputs": []
    },
    {
      "cell_type": "code",
      "source": [
        "c0 = TimeDistributed(Dense(nb_classes, activation='softmax'),name='digit1')(encoded_vid)\n",
        "c1 = TimeDistributed(Dense(nb_classes, activation='softmax'),name='digit2')(encoded_vid)"
      ],
      "metadata": {
        "id": "6ylxwWgtGZRK"
      },
      "execution_count": 15,
      "outputs": []
    },
    {
      "cell_type": "code",
      "source": [
        "model = Model(inputs=[inputs],outputs=[c0,c1], name='custom-cnn-lstm')"
      ],
      "metadata": {
        "id": "UFpy6RROGbs9"
      },
      "execution_count": 16,
      "outputs": []
    },
    {
      "cell_type": "code",
      "source": [
        "model.compile(optimizer='adam',loss='categorical_crossentropy',metrics=['acc'])"
      ],
      "metadata": {
        "id": "3hljFOShGeDR"
      },
      "execution_count": 17,
      "outputs": []
    },
    {
      "cell_type": "code",
      "source": [
        "model.summary()"
      ],
      "metadata": {
        "colab": {
          "base_uri": "https://localhost:8080/"
        },
        "id": "sANtjsQj_P84",
        "outputId": "6fb67147-c5bb-4509-9a34-7624f471f50c"
      },
      "execution_count": 18,
      "outputs": [
        {
          "output_type": "stream",
          "name": "stdout",
          "text": [
            "Model: \"custom-cnn-lstm\"\n",
            "__________________________________________________________________________________________________\n",
            " Layer (type)                   Output Shape         Param #     Connected to                     \n",
            "==================================================================================================\n",
            " input_1 (InputLayer)           [(None, None, 64, 6  0           []                               \n",
            "                                4, 1)]                                                            \n",
            "                                                                                                  \n",
            " time_distributed (TimeDistribu  (None, None, 64, 64  320        ['input_1[0][0]']                \n",
            " ted)                           , 32)                                                             \n",
            "                                                                                                  \n",
            " time_distributed_1 (TimeDistri  (None, None, 64, 64  0          ['time_distributed[0][0]']       \n",
            " buted)                         , 32)                                                             \n",
            "                                                                                                  \n",
            " time_distributed_2 (TimeDistri  (None, None, 64, 64  128        ['time_distributed_1[0][0]']     \n",
            " buted)                         , 32)                                                             \n",
            "                                                                                                  \n",
            " time_distributed_3 (TimeDistri  (None, None, 62, 62  9248       ['time_distributed_2[0][0]']     \n",
            " buted)                         , 32)                                                             \n",
            "                                                                                                  \n",
            " time_distributed_4 (TimeDistri  (None, None, 62, 62  0          ['time_distributed_3[0][0]']     \n",
            " buted)                         , 32)                                                             \n",
            "                                                                                                  \n",
            " time_distributed_5 (TimeDistri  (None, None, 62, 62  128        ['time_distributed_4[0][0]']     \n",
            " buted)                         , 32)                                                             \n",
            "                                                                                                  \n",
            " time_distributed_6 (TimeDistri  (None, None, 31, 31  0          ['time_distributed_5[0][0]']     \n",
            " buted)                         , 32)                                                             \n",
            "                                                                                                  \n",
            " time_distributed_7 (TimeDistri  (None, None, 31, 31  0          ['time_distributed_6[0][0]']     \n",
            " buted)                         , 32)                                                             \n",
            "                                                                                                  \n",
            " time_distributed_8 (TimeDistri  (None, None, 30752)  0          ['time_distributed_7[0][0]']     \n",
            " buted)                                                                                           \n",
            "                                                                                                  \n",
            " lstm (LSTM)                    (None, None, 64)     7889152     ['time_distributed_8[0][0]']     \n",
            "                                                                                                  \n",
            " time_distributed_9 (TimeDistri  (None, None, 32)    2080        ['lstm[0][0]']                   \n",
            " buted)                                                                                           \n",
            "                                                                                                  \n",
            " dropout_1 (Dropout)            (None, None, 32)     0           ['time_distributed_9[0][0]']     \n",
            "                                                                                                  \n",
            " digit1 (TimeDistributed)       (None, None, 10)     330         ['dropout_1[0][0]']              \n",
            "                                                                                                  \n",
            " digit2 (TimeDistributed)       (None, None, 10)     330         ['dropout_1[0][0]']              \n",
            "                                                                                                  \n",
            "==================================================================================================\n",
            "Total params: 7,901,716\n",
            "Trainable params: 7,901,588\n",
            "Non-trainable params: 128\n",
            "__________________________________________________________________________________________________\n"
          ]
        }
      ]
    },
    {
      "cell_type": "code",
      "source": [
        "model.summary()"
      ],
      "metadata": {
        "colab": {
          "base_uri": "https://localhost:8080/"
        },
        "id": "pXLSLajv_TXN",
        "outputId": "441f2beb-9be0-40ae-eefc-19bed513be64"
      },
      "execution_count": 19,
      "outputs": [
        {
          "output_type": "stream",
          "name": "stdout",
          "text": [
            "Model: \"custom-cnn-lstm\"\n",
            "__________________________________________________________________________________________________\n",
            " Layer (type)                   Output Shape         Param #     Connected to                     \n",
            "==================================================================================================\n",
            " input_1 (InputLayer)           [(None, None, 64, 6  0           []                               \n",
            "                                4, 1)]                                                            \n",
            "                                                                                                  \n",
            " time_distributed (TimeDistribu  (None, None, 64, 64  320        ['input_1[0][0]']                \n",
            " ted)                           , 32)                                                             \n",
            "                                                                                                  \n",
            " time_distributed_1 (TimeDistri  (None, None, 64, 64  0          ['time_distributed[0][0]']       \n",
            " buted)                         , 32)                                                             \n",
            "                                                                                                  \n",
            " time_distributed_2 (TimeDistri  (None, None, 64, 64  128        ['time_distributed_1[0][0]']     \n",
            " buted)                         , 32)                                                             \n",
            "                                                                                                  \n",
            " time_distributed_3 (TimeDistri  (None, None, 62, 62  9248       ['time_distributed_2[0][0]']     \n",
            " buted)                         , 32)                                                             \n",
            "                                                                                                  \n",
            " time_distributed_4 (TimeDistri  (None, None, 62, 62  0          ['time_distributed_3[0][0]']     \n",
            " buted)                         , 32)                                                             \n",
            "                                                                                                  \n",
            " time_distributed_5 (TimeDistri  (None, None, 62, 62  128        ['time_distributed_4[0][0]']     \n",
            " buted)                         , 32)                                                             \n",
            "                                                                                                  \n",
            " time_distributed_6 (TimeDistri  (None, None, 31, 31  0          ['time_distributed_5[0][0]']     \n",
            " buted)                         , 32)                                                             \n",
            "                                                                                                  \n",
            " time_distributed_7 (TimeDistri  (None, None, 31, 31  0          ['time_distributed_6[0][0]']     \n",
            " buted)                         , 32)                                                             \n",
            "                                                                                                  \n",
            " time_distributed_8 (TimeDistri  (None, None, 30752)  0          ['time_distributed_7[0][0]']     \n",
            " buted)                                                                                           \n",
            "                                                                                                  \n",
            " lstm (LSTM)                    (None, None, 64)     7889152     ['time_distributed_8[0][0]']     \n",
            "                                                                                                  \n",
            " time_distributed_9 (TimeDistri  (None, None, 32)    2080        ['lstm[0][0]']                   \n",
            " buted)                                                                                           \n",
            "                                                                                                  \n",
            " dropout_1 (Dropout)            (None, None, 32)     0           ['time_distributed_9[0][0]']     \n",
            "                                                                                                  \n",
            " digit1 (TimeDistributed)       (None, None, 10)     330         ['dropout_1[0][0]']              \n",
            "                                                                                                  \n",
            " digit2 (TimeDistributed)       (None, None, 10)     330         ['dropout_1[0][0]']              \n",
            "                                                                                                  \n",
            "==================================================================================================\n",
            "Total params: 7,901,716\n",
            "Trainable params: 7,901,588\n",
            "Non-trainable params: 128\n",
            "__________________________________________________________________________________________________\n"
          ]
        }
      ]
    },
    {
      "cell_type": "code",
      "source": [
        "def prep_data_keras(img_data):\n",
        "    \n",
        "    ### 10 refers to time_steps\n",
        "    img_data = img_data.reshape(len(img_data)//10,10,64,64,1)\n",
        "    img_data = img_data.astype('float32')\n",
        "    img_data /= 255.0\n",
        "    \n",
        "    return img_data\n",
        "\n",
        "train_images = prep_data_keras(x_seq_train)\n",
        "test_images = prep_data_keras(x_seq_test)\n",
        "print(f\"Test Image Shape: {test_images.shape}\")"
      ],
      "metadata": {
        "colab": {
          "base_uri": "https://localhost:8080/"
        },
        "id": "6xDI8f2HG_3q",
        "outputId": "48d4d642-9a97-4fb1-dc3b-8c51e0cda707"
      },
      "execution_count": 20,
      "outputs": [
        {
          "output_type": "stream",
          "name": "stdout",
          "text": [
            "Test Image Shape: (1000, 10, 64, 64, 1)\n"
          ]
        }
      ]
    },
    {
      "cell_type": "code",
      "source": [
        "train_labels[0] = train_labels[0].reshape(6000,10,10)\n",
        "train_labels[1] = train_labels[1].reshape(6000,10,10)"
      ],
      "metadata": {
        "id": "PfCb4QdzHP2I"
      },
      "execution_count": 21,
      "outputs": []
    },
    {
      "cell_type": "code",
      "source": [
        "from keras.callbacks import ModelCheckpoint, LearningRateScheduler, EarlyStopping\n",
        "import numpy as np\n",
        "\n",
        "save_dir = 'two-digit-custom-model-test3-with-cnn-lstm.h5'\n",
        "model_checkpoint = ModelCheckpoint(save_dir, \n",
        "\t\t\t\t\t\t\tmonitor='val_loss', verbose=1, \n",
        "\t\t\t\t\t\t\tsave_best_only=True, mode='min')\n",
        "\n",
        "lr_sched = LearningRateScheduler(lambda epoch: 1e-4 * (0.75 ** np.floor(epoch / 2)))\n"
      ],
      "metadata": {
        "id": "do0qTEVQHUxg"
      },
      "execution_count": 22,
      "outputs": []
    },
    {
      "cell_type": "code",
      "source": [
        "early = EarlyStopping(monitor='val_loss', patience=5, mode='min', verbose=1)"
      ],
      "metadata": {
        "id": "lbbGCnUOHaIa"
      },
      "execution_count": 23,
      "outputs": []
    },
    {
      "cell_type": "code",
      "source": [
        "hist = model.fit(train_images,train_labels,batch_size=32,epochs=50,verbose=2,validation_split=0.2, callbacks=[model_checkpoint, lr_sched, early])"
      ],
      "metadata": {
        "colab": {
          "base_uri": "https://localhost:8080/"
        },
        "id": "DBfT20fnHb_c",
        "outputId": "5192c06d-aa56-4f55-9fda-f80bbc048efa"
      },
      "execution_count": 24,
      "outputs": [
        {
          "output_type": "stream",
          "name": "stdout",
          "text": [
            "Epoch 1/50\n",
            "\n",
            "Epoch 00001: val_loss improved from inf to 4.57753, saving model to two-digit-custom-model-test3-with-cnn-lstm.h5\n",
            "150/150 - 28s - loss: 3.0027 - digit1_loss: 1.5411 - digit2_loss: 1.4616 - digit1_acc: 0.5012 - digit2_acc: 0.5416 - val_loss: 4.5775 - val_digit1_loss: 2.2895 - val_digit2_loss: 2.2881 - val_digit1_acc: 0.1957 - val_digit2_acc: 0.2136 - lr: 1.0000e-04 - 28s/epoch - 185ms/step\n",
            "Epoch 2/50\n",
            "\n",
            "Epoch 00002: val_loss improved from 4.57753 to 4.46836, saving model to two-digit-custom-model-test3-with-cnn-lstm.h5\n",
            "150/150 - 11s - loss: 2.1787 - digit1_loss: 1.1350 - digit2_loss: 1.0436 - digit1_acc: 0.6784 - digit2_acc: 0.7082 - val_loss: 4.4684 - val_digit1_loss: 2.2380 - val_digit2_loss: 2.2304 - val_digit1_acc: 0.3292 - val_digit2_acc: 0.2278 - lr: 1.0000e-04 - 11s/epoch - 72ms/step\n",
            "Epoch 3/50\n",
            "\n",
            "Epoch 00003: val_loss improved from 4.46836 to 4.03928, saving model to two-digit-custom-model-test3-with-cnn-lstm.h5\n",
            "150/150 - 11s - loss: 1.8262 - digit1_loss: 0.9556 - digit2_loss: 0.8707 - digit1_acc: 0.7402 - digit2_acc: 0.7688 - val_loss: 4.0393 - val_digit1_loss: 2.0149 - val_digit2_loss: 2.0244 - val_digit1_acc: 0.3562 - val_digit2_acc: 0.2152 - lr: 7.5000e-05 - 11s/epoch - 72ms/step\n",
            "Epoch 4/50\n",
            "\n",
            "Epoch 00004: val_loss improved from 4.03928 to 2.27860, saving model to two-digit-custom-model-test3-with-cnn-lstm.h5\n",
            "150/150 - 11s - loss: 1.5785 - digit1_loss: 0.8225 - digit2_loss: 0.7561 - digit1_acc: 0.7850 - digit2_acc: 0.8005 - val_loss: 2.2786 - val_digit1_loss: 1.1559 - val_digit2_loss: 1.1227 - val_digit1_acc: 0.7530 - val_digit2_acc: 0.7217 - lr: 7.5000e-05 - 11s/epoch - 73ms/step\n",
            "Epoch 5/50\n",
            "\n",
            "Epoch 00005: val_loss improved from 2.27860 to 1.03672, saving model to two-digit-custom-model-test3-with-cnn-lstm.h5\n",
            "150/150 - 11s - loss: 1.3803 - digit1_loss: 0.7241 - digit2_loss: 0.6562 - digit1_acc: 0.8140 - digit2_acc: 0.8342 - val_loss: 1.0367 - val_digit1_loss: 0.5429 - val_digit2_loss: 0.4938 - val_digit1_acc: 0.9224 - val_digit2_acc: 0.9273 - lr: 5.6250e-05 - 11s/epoch - 73ms/step\n",
            "Epoch 6/50\n",
            "\n",
            "Epoch 00006: val_loss improved from 1.03672 to 0.80209, saving model to two-digit-custom-model-test3-with-cnn-lstm.h5\n",
            "150/150 - 11s - loss: 1.2421 - digit1_loss: 0.6510 - digit2_loss: 0.5911 - digit1_acc: 0.8353 - digit2_acc: 0.8514 - val_loss: 0.8021 - val_digit1_loss: 0.4224 - val_digit2_loss: 0.3797 - val_digit1_acc: 0.9352 - val_digit2_acc: 0.9429 - lr: 5.6250e-05 - 11s/epoch - 73ms/step\n",
            "Epoch 7/50\n",
            "\n",
            "Epoch 00007: val_loss improved from 0.80209 to 0.69837, saving model to two-digit-custom-model-test3-with-cnn-lstm.h5\n",
            "150/150 - 11s - loss: 1.1349 - digit1_loss: 0.5945 - digit2_loss: 0.5404 - digit1_acc: 0.8523 - digit2_acc: 0.8650 - val_loss: 0.6984 - val_digit1_loss: 0.3705 - val_digit2_loss: 0.3279 - val_digit1_acc: 0.9421 - val_digit2_acc: 0.9498 - lr: 4.2188e-05 - 11s/epoch - 74ms/step\n",
            "Epoch 8/50\n",
            "\n",
            "Epoch 00008: val_loss improved from 0.69837 to 0.62945, saving model to two-digit-custom-model-test3-with-cnn-lstm.h5\n",
            "150/150 - 11s - loss: 1.0562 - digit1_loss: 0.5556 - digit2_loss: 0.5006 - digit1_acc: 0.8621 - digit2_acc: 0.8772 - val_loss: 0.6294 - val_digit1_loss: 0.3356 - val_digit2_loss: 0.2938 - val_digit1_acc: 0.9469 - val_digit2_acc: 0.9538 - lr: 4.2188e-05 - 11s/epoch - 75ms/step\n",
            "Epoch 9/50\n",
            "\n",
            "Epoch 00009: val_loss improved from 0.62945 to 0.58338, saving model to two-digit-custom-model-test3-with-cnn-lstm.h5\n",
            "150/150 - 11s - loss: 0.9945 - digit1_loss: 0.5210 - digit2_loss: 0.4735 - digit1_acc: 0.8722 - digit2_acc: 0.8833 - val_loss: 0.5834 - val_digit1_loss: 0.3133 - val_digit2_loss: 0.2701 - val_digit1_acc: 0.9494 - val_digit2_acc: 0.9578 - lr: 3.1641e-05 - 11s/epoch - 74ms/step\n",
            "Epoch 10/50\n",
            "\n",
            "Epoch 00010: val_loss improved from 0.58338 to 0.54779, saving model to two-digit-custom-model-test3-with-cnn-lstm.h5\n",
            "150/150 - 11s - loss: 0.9519 - digit1_loss: 0.4980 - digit2_loss: 0.4540 - digit1_acc: 0.8771 - digit2_acc: 0.8872 - val_loss: 0.5478 - val_digit1_loss: 0.2941 - val_digit2_loss: 0.2537 - val_digit1_acc: 0.9523 - val_digit2_acc: 0.9597 - lr: 3.1641e-05 - 11s/epoch - 74ms/step\n",
            "Epoch 11/50\n",
            "\n",
            "Epoch 00011: val_loss improved from 0.54779 to 0.51893, saving model to two-digit-custom-model-test3-with-cnn-lstm.h5\n",
            "150/150 - 11s - loss: 0.9027 - digit1_loss: 0.4735 - digit2_loss: 0.4292 - digit1_acc: 0.8832 - digit2_acc: 0.8936 - val_loss: 0.5189 - val_digit1_loss: 0.2790 - val_digit2_loss: 0.2399 - val_digit1_acc: 0.9544 - val_digit2_acc: 0.9613 - lr: 2.3730e-05 - 11s/epoch - 75ms/step\n",
            "Epoch 12/50\n",
            "\n",
            "Epoch 00012: val_loss improved from 0.51893 to 0.49363, saving model to two-digit-custom-model-test3-with-cnn-lstm.h5\n",
            "150/150 - 11s - loss: 0.8718 - digit1_loss: 0.4581 - digit2_loss: 0.4137 - digit1_acc: 0.8884 - digit2_acc: 0.8999 - val_loss: 0.4936 - val_digit1_loss: 0.2649 - val_digit2_loss: 0.2287 - val_digit1_acc: 0.9572 - val_digit2_acc: 0.9623 - lr: 2.3730e-05 - 11s/epoch - 75ms/step\n",
            "Epoch 13/50\n",
            "\n",
            "Epoch 00013: val_loss improved from 0.49363 to 0.47992, saving model to two-digit-custom-model-test3-with-cnn-lstm.h5\n",
            "150/150 - 11s - loss: 0.8434 - digit1_loss: 0.4411 - digit2_loss: 0.4023 - digit1_acc: 0.8930 - digit2_acc: 0.9019 - val_loss: 0.4799 - val_digit1_loss: 0.2572 - val_digit2_loss: 0.2227 - val_digit1_acc: 0.9592 - val_digit2_acc: 0.9637 - lr: 1.7798e-05 - 11s/epoch - 75ms/step\n",
            "Epoch 14/50\n",
            "\n",
            "Epoch 00014: val_loss improved from 0.47992 to 0.46371, saving model to two-digit-custom-model-test3-with-cnn-lstm.h5\n",
            "150/150 - 11s - loss: 0.8270 - digit1_loss: 0.4317 - digit2_loss: 0.3952 - digit1_acc: 0.8942 - digit2_acc: 0.9023 - val_loss: 0.4637 - val_digit1_loss: 0.2480 - val_digit2_loss: 0.2157 - val_digit1_acc: 0.9592 - val_digit2_acc: 0.9643 - lr: 1.7798e-05 - 11s/epoch - 75ms/step\n",
            "Epoch 15/50\n",
            "\n",
            "Epoch 00015: val_loss improved from 0.46371 to 0.44278, saving model to two-digit-custom-model-test3-with-cnn-lstm.h5\n",
            "150/150 - 11s - loss: 0.8020 - digit1_loss: 0.4224 - digit2_loss: 0.3796 - digit1_acc: 0.8973 - digit2_acc: 0.9069 - val_loss: 0.4428 - val_digit1_loss: 0.2376 - val_digit2_loss: 0.2052 - val_digit1_acc: 0.9606 - val_digit2_acc: 0.9653 - lr: 1.3348e-05 - 11s/epoch - 76ms/step\n",
            "Epoch 16/50\n",
            "\n",
            "Epoch 00016: val_loss improved from 0.44278 to 0.43196, saving model to two-digit-custom-model-test3-with-cnn-lstm.h5\n",
            "150/150 - 11s - loss: 0.7909 - digit1_loss: 0.4139 - digit2_loss: 0.3770 - digit1_acc: 0.9005 - digit2_acc: 0.9058 - val_loss: 0.4320 - val_digit1_loss: 0.2321 - val_digit2_loss: 0.1998 - val_digit1_acc: 0.9611 - val_digit2_acc: 0.9659 - lr: 1.3348e-05 - 11s/epoch - 75ms/step\n",
            "Epoch 17/50\n",
            "\n",
            "Epoch 00017: val_loss improved from 0.43196 to 0.42345, saving model to two-digit-custom-model-test3-with-cnn-lstm.h5\n",
            "150/150 - 11s - loss: 0.7810 - digit1_loss: 0.4113 - digit2_loss: 0.3697 - digit1_acc: 0.9003 - digit2_acc: 0.9086 - val_loss: 0.4235 - val_digit1_loss: 0.2276 - val_digit2_loss: 0.1959 - val_digit1_acc: 0.9616 - val_digit2_acc: 0.9653 - lr: 1.0011e-05 - 11s/epoch - 76ms/step\n",
            "Epoch 18/50\n",
            "\n",
            "Epoch 00018: val_loss improved from 0.42345 to 0.41456, saving model to two-digit-custom-model-test3-with-cnn-lstm.h5\n",
            "150/150 - 11s - loss: 0.7622 - digit1_loss: 0.4011 - digit2_loss: 0.3612 - digit1_acc: 0.9029 - digit2_acc: 0.9132 - val_loss: 0.4146 - val_digit1_loss: 0.2227 - val_digit2_loss: 0.1919 - val_digit1_acc: 0.9625 - val_digit2_acc: 0.9668 - lr: 1.0011e-05 - 11s/epoch - 76ms/step\n",
            "Epoch 19/50\n",
            "\n",
            "Epoch 00019: val_loss improved from 0.41456 to 0.40942, saving model to two-digit-custom-model-test3-with-cnn-lstm.h5\n",
            "150/150 - 11s - loss: 0.7561 - digit1_loss: 0.3964 - digit2_loss: 0.3598 - digit1_acc: 0.9048 - digit2_acc: 0.9116 - val_loss: 0.4094 - val_digit1_loss: 0.2204 - val_digit2_loss: 0.1890 - val_digit1_acc: 0.9621 - val_digit2_acc: 0.9671 - lr: 7.5085e-06 - 11s/epoch - 76ms/step\n",
            "Epoch 20/50\n",
            "\n",
            "Epoch 00020: val_loss improved from 0.40942 to 0.40297, saving model to two-digit-custom-model-test3-with-cnn-lstm.h5\n",
            "150/150 - 11s - loss: 0.7487 - digit1_loss: 0.3922 - digit2_loss: 0.3565 - digit1_acc: 0.9047 - digit2_acc: 0.9123 - val_loss: 0.4030 - val_digit1_loss: 0.2174 - val_digit2_loss: 0.1856 - val_digit1_acc: 0.9627 - val_digit2_acc: 0.9673 - lr: 7.5085e-06 - 11s/epoch - 76ms/step\n",
            "Epoch 21/50\n",
            "\n",
            "Epoch 00021: val_loss improved from 0.40297 to 0.39691, saving model to two-digit-custom-model-test3-with-cnn-lstm.h5\n",
            "150/150 - 11s - loss: 0.7367 - digit1_loss: 0.3885 - digit2_loss: 0.3482 - digit1_acc: 0.9059 - digit2_acc: 0.9142 - val_loss: 0.3969 - val_digit1_loss: 0.2137 - val_digit2_loss: 0.1832 - val_digit1_acc: 0.9632 - val_digit2_acc: 0.9674 - lr: 5.6314e-06 - 11s/epoch - 76ms/step\n",
            "Epoch 22/50\n",
            "\n",
            "Epoch 00022: val_loss improved from 0.39691 to 0.39295, saving model to two-digit-custom-model-test3-with-cnn-lstm.h5\n",
            "150/150 - 11s - loss: 0.7328 - digit1_loss: 0.3852 - digit2_loss: 0.3476 - digit1_acc: 0.9075 - digit2_acc: 0.9157 - val_loss: 0.3929 - val_digit1_loss: 0.2113 - val_digit2_loss: 0.1816 - val_digit1_acc: 0.9637 - val_digit2_acc: 0.9671 - lr: 5.6314e-06 - 11s/epoch - 76ms/step\n",
            "Epoch 23/50\n",
            "\n",
            "Epoch 00023: val_loss improved from 0.39295 to 0.39036, saving model to two-digit-custom-model-test3-with-cnn-lstm.h5\n",
            "150/150 - 11s - loss: 0.7329 - digit1_loss: 0.3844 - digit2_loss: 0.3485 - digit1_acc: 0.9076 - digit2_acc: 0.9156 - val_loss: 0.3904 - val_digit1_loss: 0.2102 - val_digit2_loss: 0.1802 - val_digit1_acc: 0.9632 - val_digit2_acc: 0.9676 - lr: 4.2235e-06 - 11s/epoch - 76ms/step\n",
            "Epoch 24/50\n",
            "\n",
            "Epoch 00024: val_loss improved from 0.39036 to 0.38679, saving model to two-digit-custom-model-test3-with-cnn-lstm.h5\n",
            "150/150 - 11s - loss: 0.7250 - digit1_loss: 0.3812 - digit2_loss: 0.3439 - digit1_acc: 0.9073 - digit2_acc: 0.9140 - val_loss: 0.3868 - val_digit1_loss: 0.2082 - val_digit2_loss: 0.1786 - val_digit1_acc: 0.9637 - val_digit2_acc: 0.9680 - lr: 4.2235e-06 - 11s/epoch - 76ms/step\n",
            "Epoch 25/50\n",
            "\n",
            "Epoch 00025: val_loss improved from 0.38679 to 0.38523, saving model to two-digit-custom-model-test3-with-cnn-lstm.h5\n",
            "150/150 - 11s - loss: 0.7242 - digit1_loss: 0.3822 - digit2_loss: 0.3420 - digit1_acc: 0.9060 - digit2_acc: 0.9157 - val_loss: 0.3852 - val_digit1_loss: 0.2075 - val_digit2_loss: 0.1778 - val_digit1_acc: 0.9637 - val_digit2_acc: 0.9684 - lr: 3.1676e-06 - 11s/epoch - 76ms/step\n",
            "Epoch 26/50\n",
            "\n",
            "Epoch 00026: val_loss improved from 0.38523 to 0.38159, saving model to two-digit-custom-model-test3-with-cnn-lstm.h5\n",
            "150/150 - 11s - loss: 0.7179 - digit1_loss: 0.3760 - digit2_loss: 0.3419 - digit1_acc: 0.9093 - digit2_acc: 0.9153 - val_loss: 0.3816 - val_digit1_loss: 0.2054 - val_digit2_loss: 0.1762 - val_digit1_acc: 0.9644 - val_digit2_acc: 0.9678 - lr: 3.1676e-06 - 11s/epoch - 76ms/step\n",
            "Epoch 27/50\n",
            "\n",
            "Epoch 00027: val_loss improved from 0.38159 to 0.37974, saving model to two-digit-custom-model-test3-with-cnn-lstm.h5\n",
            "150/150 - 11s - loss: 0.7194 - digit1_loss: 0.3785 - digit2_loss: 0.3408 - digit1_acc: 0.9079 - digit2_acc: 0.9154 - val_loss: 0.3797 - val_digit1_loss: 0.2044 - val_digit2_loss: 0.1753 - val_digit1_acc: 0.9643 - val_digit2_acc: 0.9678 - lr: 2.3757e-06 - 11s/epoch - 77ms/step\n",
            "Epoch 28/50\n",
            "\n",
            "Epoch 00028: val_loss improved from 0.37974 to 0.37764, saving model to two-digit-custom-model-test3-with-cnn-lstm.h5\n",
            "150/150 - 12s - loss: 0.7142 - digit1_loss: 0.3758 - digit2_loss: 0.3385 - digit1_acc: 0.9081 - digit2_acc: 0.9155 - val_loss: 0.3776 - val_digit1_loss: 0.2034 - val_digit2_loss: 0.1743 - val_digit1_acc: 0.9645 - val_digit2_acc: 0.9688 - lr: 2.3757e-06 - 12s/epoch - 77ms/step\n",
            "Epoch 29/50\n",
            "\n",
            "Epoch 00029: val_loss improved from 0.37764 to 0.37717, saving model to two-digit-custom-model-test3-with-cnn-lstm.h5\n",
            "150/150 - 12s - loss: 0.7124 - digit1_loss: 0.3717 - digit2_loss: 0.3407 - digit1_acc: 0.9104 - digit2_acc: 0.9159 - val_loss: 0.3772 - val_digit1_loss: 0.2033 - val_digit2_loss: 0.1739 - val_digit1_acc: 0.9646 - val_digit2_acc: 0.9685 - lr: 1.7818e-06 - 12s/epoch - 77ms/step\n",
            "Epoch 30/50\n",
            "\n",
            "Epoch 00030: val_loss improved from 0.37717 to 0.37521, saving model to two-digit-custom-model-test3-with-cnn-lstm.h5\n",
            "150/150 - 12s - loss: 0.7051 - digit1_loss: 0.3698 - digit2_loss: 0.3353 - digit1_acc: 0.9103 - digit2_acc: 0.9169 - val_loss: 0.3752 - val_digit1_loss: 0.2021 - val_digit2_loss: 0.1731 - val_digit1_acc: 0.9646 - val_digit2_acc: 0.9682 - lr: 1.7818e-06 - 12s/epoch - 77ms/step\n",
            "Epoch 31/50\n",
            "\n",
            "Epoch 00031: val_loss improved from 0.37521 to 0.37445, saving model to two-digit-custom-model-test3-with-cnn-lstm.h5\n",
            "150/150 - 11s - loss: 0.7079 - digit1_loss: 0.3730 - digit2_loss: 0.3349 - digit1_acc: 0.9088 - digit2_acc: 0.9163 - val_loss: 0.3744 - val_digit1_loss: 0.2017 - val_digit2_loss: 0.1727 - val_digit1_acc: 0.9644 - val_digit2_acc: 0.9682 - lr: 1.3363e-06 - 11s/epoch - 76ms/step\n",
            "Epoch 32/50\n",
            "\n",
            "Epoch 00032: val_loss improved from 0.37445 to 0.37354, saving model to two-digit-custom-model-test3-with-cnn-lstm.h5\n",
            "150/150 - 11s - loss: 0.7039 - digit1_loss: 0.3709 - digit2_loss: 0.3329 - digit1_acc: 0.9096 - digit2_acc: 0.9168 - val_loss: 0.3735 - val_digit1_loss: 0.2013 - val_digit2_loss: 0.1723 - val_digit1_acc: 0.9643 - val_digit2_acc: 0.9687 - lr: 1.3363e-06 - 11s/epoch - 76ms/step\n",
            "Epoch 33/50\n",
            "\n",
            "Epoch 00033: val_loss improved from 0.37354 to 0.37254, saving model to two-digit-custom-model-test3-with-cnn-lstm.h5\n",
            "150/150 - 11s - loss: 0.7086 - digit1_loss: 0.3724 - digit2_loss: 0.3362 - digit1_acc: 0.9095 - digit2_acc: 0.9171 - val_loss: 0.3725 - val_digit1_loss: 0.2007 - val_digit2_loss: 0.1718 - val_digit1_acc: 0.9647 - val_digit2_acc: 0.9687 - lr: 1.0023e-06 - 11s/epoch - 77ms/step\n",
            "Epoch 34/50\n",
            "\n",
            "Epoch 00034: val_loss improved from 0.37254 to 0.37179, saving model to two-digit-custom-model-test3-with-cnn-lstm.h5\n",
            "150/150 - 11s - loss: 0.7041 - digit1_loss: 0.3724 - digit2_loss: 0.3317 - digit1_acc: 0.9089 - digit2_acc: 0.9175 - val_loss: 0.3718 - val_digit1_loss: 0.2004 - val_digit2_loss: 0.1714 - val_digit1_acc: 0.9646 - val_digit2_acc: 0.9687 - lr: 1.0023e-06 - 11s/epoch - 76ms/step\n",
            "Epoch 35/50\n",
            "\n",
            "Epoch 00035: val_loss improved from 0.37179 to 0.37128, saving model to two-digit-custom-model-test3-with-cnn-lstm.h5\n",
            "150/150 - 11s - loss: 0.7023 - digit1_loss: 0.3684 - digit2_loss: 0.3339 - digit1_acc: 0.9111 - digit2_acc: 0.9179 - val_loss: 0.3713 - val_digit1_loss: 0.2001 - val_digit2_loss: 0.1712 - val_digit1_acc: 0.9647 - val_digit2_acc: 0.9687 - lr: 7.5169e-07 - 11s/epoch - 77ms/step\n",
            "Epoch 36/50\n",
            "\n",
            "Epoch 00036: val_loss improved from 0.37128 to 0.37081, saving model to two-digit-custom-model-test3-with-cnn-lstm.h5\n",
            "150/150 - 11s - loss: 0.7017 - digit1_loss: 0.3678 - digit2_loss: 0.3338 - digit1_acc: 0.9109 - digit2_acc: 0.9185 - val_loss: 0.3708 - val_digit1_loss: 0.1998 - val_digit2_loss: 0.1710 - val_digit1_acc: 0.9647 - val_digit2_acc: 0.9688 - lr: 7.5169e-07 - 11s/epoch - 77ms/step\n",
            "Epoch 37/50\n",
            "\n",
            "Epoch 00037: val_loss improved from 0.37081 to 0.37049, saving model to two-digit-custom-model-test3-with-cnn-lstm.h5\n",
            "150/150 - 11s - loss: 0.7037 - digit1_loss: 0.3706 - digit2_loss: 0.3331 - digit1_acc: 0.9093 - digit2_acc: 0.9170 - val_loss: 0.3705 - val_digit1_loss: 0.1997 - val_digit2_loss: 0.1708 - val_digit1_acc: 0.9646 - val_digit2_acc: 0.9688 - lr: 5.6377e-07 - 11s/epoch - 76ms/step\n",
            "Epoch 38/50\n",
            "\n",
            "Epoch 00038: val_loss improved from 0.37049 to 0.36989, saving model to two-digit-custom-model-test3-with-cnn-lstm.h5\n",
            "150/150 - 11s - loss: 0.7006 - digit1_loss: 0.3671 - digit2_loss: 0.3334 - digit1_acc: 0.9106 - digit2_acc: 0.9181 - val_loss: 0.3699 - val_digit1_loss: 0.1993 - val_digit2_loss: 0.1706 - val_digit1_acc: 0.9650 - val_digit2_acc: 0.9688 - lr: 5.6377e-07 - 11s/epoch - 76ms/step\n",
            "Epoch 39/50\n",
            "\n",
            "Epoch 00039: val_loss improved from 0.36989 to 0.36951, saving model to two-digit-custom-model-test3-with-cnn-lstm.h5\n",
            "150/150 - 11s - loss: 0.6988 - digit1_loss: 0.3672 - digit2_loss: 0.3316 - digit1_acc: 0.9114 - digit2_acc: 0.9176 - val_loss: 0.3695 - val_digit1_loss: 0.1991 - val_digit2_loss: 0.1704 - val_digit1_acc: 0.9651 - val_digit2_acc: 0.9688 - lr: 4.2283e-07 - 11s/epoch - 77ms/step\n",
            "Epoch 40/50\n",
            "\n",
            "Epoch 00040: val_loss improved from 0.36951 to 0.36904, saving model to two-digit-custom-model-test3-with-cnn-lstm.h5\n",
            "150/150 - 11s - loss: 0.6968 - digit1_loss: 0.3653 - digit2_loss: 0.3315 - digit1_acc: 0.9124 - digit2_acc: 0.9181 - val_loss: 0.3690 - val_digit1_loss: 0.1988 - val_digit2_loss: 0.1703 - val_digit1_acc: 0.9653 - val_digit2_acc: 0.9688 - lr: 4.2283e-07 - 11s/epoch - 77ms/step\n",
            "Epoch 41/50\n",
            "\n",
            "Epoch 00041: val_loss improved from 0.36904 to 0.36890, saving model to two-digit-custom-model-test3-with-cnn-lstm.h5\n",
            "150/150 - 11s - loss: 0.6993 - digit1_loss: 0.3678 - digit2_loss: 0.3315 - digit1_acc: 0.9110 - digit2_acc: 0.9182 - val_loss: 0.3689 - val_digit1_loss: 0.1987 - val_digit2_loss: 0.1701 - val_digit1_acc: 0.9652 - val_digit2_acc: 0.9688 - lr: 3.1712e-07 - 11s/epoch - 77ms/step\n",
            "Epoch 42/50\n",
            "\n",
            "Epoch 00042: val_loss improved from 0.36890 to 0.36875, saving model to two-digit-custom-model-test3-with-cnn-lstm.h5\n",
            "150/150 - 11s - loss: 0.6987 - digit1_loss: 0.3674 - digit2_loss: 0.3313 - digit1_acc: 0.9109 - digit2_acc: 0.9166 - val_loss: 0.3688 - val_digit1_loss: 0.1987 - val_digit2_loss: 0.1701 - val_digit1_acc: 0.9651 - val_digit2_acc: 0.9688 - lr: 3.1712e-07 - 11s/epoch - 77ms/step\n",
            "Epoch 43/50\n",
            "\n",
            "Epoch 00043: val_loss improved from 0.36875 to 0.36851, saving model to two-digit-custom-model-test3-with-cnn-lstm.h5\n",
            "150/150 - 12s - loss: 0.6999 - digit1_loss: 0.3673 - digit2_loss: 0.3326 - digit1_acc: 0.9100 - digit2_acc: 0.9177 - val_loss: 0.3685 - val_digit1_loss: 0.1985 - val_digit2_loss: 0.1700 - val_digit1_acc: 0.9653 - val_digit2_acc: 0.9690 - lr: 2.3784e-07 - 12s/epoch - 77ms/step\n",
            "Epoch 44/50\n",
            "\n",
            "Epoch 00044: val_loss improved from 0.36851 to 0.36838, saving model to two-digit-custom-model-test3-with-cnn-lstm.h5\n",
            "150/150 - 12s - loss: 0.7033 - digit1_loss: 0.3679 - digit2_loss: 0.3354 - digit1_acc: 0.9108 - digit2_acc: 0.9166 - val_loss: 0.3684 - val_digit1_loss: 0.1985 - val_digit2_loss: 0.1699 - val_digit1_acc: 0.9651 - val_digit2_acc: 0.9688 - lr: 2.3784e-07 - 12s/epoch - 77ms/step\n",
            "Epoch 45/50\n",
            "\n",
            "Epoch 00045: val_loss improved from 0.36838 to 0.36823, saving model to two-digit-custom-model-test3-with-cnn-lstm.h5\n",
            "150/150 - 12s - loss: 0.6979 - digit1_loss: 0.3660 - digit2_loss: 0.3319 - digit1_acc: 0.9103 - digit2_acc: 0.9184 - val_loss: 0.3682 - val_digit1_loss: 0.1984 - val_digit2_loss: 0.1699 - val_digit1_acc: 0.9650 - val_digit2_acc: 0.9688 - lr: 1.7838e-07 - 12s/epoch - 77ms/step\n",
            "Epoch 46/50\n",
            "\n",
            "Epoch 00046: val_loss improved from 0.36823 to 0.36817, saving model to two-digit-custom-model-test3-with-cnn-lstm.h5\n",
            "150/150 - 12s - loss: 0.7020 - digit1_loss: 0.3687 - digit2_loss: 0.3333 - digit1_acc: 0.9103 - digit2_acc: 0.9173 - val_loss: 0.3682 - val_digit1_loss: 0.1984 - val_digit2_loss: 0.1698 - val_digit1_acc: 0.9651 - val_digit2_acc: 0.9688 - lr: 1.7838e-07 - 12s/epoch - 77ms/step\n",
            "Epoch 47/50\n",
            "\n",
            "Epoch 00047: val_loss improved from 0.36817 to 0.36809, saving model to two-digit-custom-model-test3-with-cnn-lstm.h5\n",
            "150/150 - 12s - loss: 0.7056 - digit1_loss: 0.3719 - digit2_loss: 0.3337 - digit1_acc: 0.9085 - digit2_acc: 0.9169 - val_loss: 0.3681 - val_digit1_loss: 0.1983 - val_digit2_loss: 0.1698 - val_digit1_acc: 0.9652 - val_digit2_acc: 0.9688 - lr: 1.3379e-07 - 12s/epoch - 77ms/step\n",
            "Epoch 48/50\n",
            "\n",
            "Epoch 00048: val_loss improved from 0.36809 to 0.36802, saving model to two-digit-custom-model-test3-with-cnn-lstm.h5\n",
            "150/150 - 12s - loss: 0.7000 - digit1_loss: 0.3676 - digit2_loss: 0.3324 - digit1_acc: 0.9098 - digit2_acc: 0.9185 - val_loss: 0.3680 - val_digit1_loss: 0.1983 - val_digit2_loss: 0.1697 - val_digit1_acc: 0.9651 - val_digit2_acc: 0.9689 - lr: 1.3379e-07 - 12s/epoch - 77ms/step\n",
            "Epoch 49/50\n",
            "\n",
            "Epoch 00049: val_loss improved from 0.36802 to 0.36790, saving model to two-digit-custom-model-test3-with-cnn-lstm.h5\n",
            "150/150 - 12s - loss: 0.6944 - digit1_loss: 0.3648 - digit2_loss: 0.3296 - digit1_acc: 0.9111 - digit2_acc: 0.9181 - val_loss: 0.3679 - val_digit1_loss: 0.1982 - val_digit2_loss: 0.1697 - val_digit1_acc: 0.9651 - val_digit2_acc: 0.9689 - lr: 1.0034e-07 - 12s/epoch - 77ms/step\n",
            "Epoch 50/50\n",
            "\n",
            "Epoch 00050: val_loss improved from 0.36790 to 0.36783, saving model to two-digit-custom-model-test3-with-cnn-lstm.h5\n",
            "150/150 - 12s - loss: 0.6938 - digit1_loss: 0.3628 - digit2_loss: 0.3310 - digit1_acc: 0.9120 - digit2_acc: 0.9188 - val_loss: 0.3678 - val_digit1_loss: 0.1982 - val_digit2_loss: 0.1696 - val_digit1_acc: 0.9652 - val_digit2_acc: 0.9689 - lr: 1.0034e-07 - 12s/epoch - 77ms/step\n"
          ]
        }
      ]
    },
    {
      "cell_type": "code",
      "source": [
        "def plot_accuracy_loss(history):\n",
        "    \"\"\"\n",
        "        Plot the accuracy and the loss during the training of the nn.\n",
        "    \"\"\"\n",
        "    fig = plt.figure(figsize=(16,10))\n",
        "\n",
        "    # Plot accuracy\n",
        "    plt.subplot(221)\n",
        "    plt.plot(hist.history['digit1_acc'],'bo--', label = \"digit1_acc\")\n",
        "    plt.plot(hist.history['val_digit1_acc'], 'ro--', label = \"val_digit1_acc\")\n",
        "    plt.title(\"digito 1 acc t1_acc vs val digito 1\")\n",
        "    plt.ylabel(\"digit1_accuracy\")\n",
        "    plt.xlabel(\"epochs\")\n",
        "    plt.legend()\n",
        "\n",
        "    # Plot loss function\n",
        "    plt.subplot(222)\n",
        "    plt.plot(hist.history['digit2_acc'],'bo--', label = \"digit2_acc\")\n",
        "    plt.plot(hist.history['val_digit2_acc'], 'ro--', label = \"val_digit2_acc\")\n",
        "    plt.title(\"digit2_acc vs val_digit2_acc\")\n",
        "    plt.ylabel(\"digit2_accuracy\")\n",
        "    plt.xlabel(\"epochs\")\n",
        "\n",
        "    plt.legend()\n",
        "    plt.show()\n",
        "  \n",
        "plot_accuracy_loss(hist)"
      ],
      "metadata": {
        "colab": {
          "base_uri": "https://localhost:8080/",
          "height": 224
        },
        "id": "RNMDMmwoIWxA",
        "outputId": "8f358d45-8acb-4195-bafa-78091b735660"
      },
      "execution_count": 25,
      "outputs": [
        {
          "output_type": "display_data",
          "data": {
            "image/png": "[encoded data removed]",
            "text/plain": [
              "<Figure size 1152x720 with 2 Axes>"
            ]
          },
          "metadata": {
            "needs_background": "light"
          }
        }
      ]
    },
    {
      "cell_type": "code",
      "source": [
        "model.save(\"multi_mnist.h5\")"
      ],
      "metadata": {
        "id": "eDN4OWfdIXyk"
      },
      "execution_count": 26,
      "outputs": []
    },
    {
      "cell_type": "code",
      "source": [
        "model.load_weights('/content/two-digit-custom-model-test3-with-cnn-lstm.h5')"
      ],
      "metadata": {
        "id": "1OJ_VcO-KQmP"
      },
      "execution_count": 27,
      "outputs": []
    },
    {
      "cell_type": "code",
      "source": [
        "test_labels[0] = test_labels[0].reshape(1000,10,10)\n",
        "test_labels[1] = test_labels[1].reshape(1000,10,10)"
      ],
      "metadata": {
        "id": "qeg-qZwMKR_7"
      },
      "execution_count": 43,
      "outputs": []
    },
    {
      "cell_type": "code",
      "source": [
        "scores = model.evaluate(test_images, test_labels)\n",
        "print(f\"Primer digito: {scores[3]} , Segundo digito: {scores[4]}\")"
      ],
      "metadata": {
        "colab": {
          "base_uri": "https://localhost:8080/"
        },
        "id": "opszrBECKRw_",
        "outputId": "b14cc8dd-11c1-4b46-8efc-4e3ad8d54a3c"
      },
      "execution_count": 44,
      "outputs": [
        {
          "output_type": "stream",
          "name": "stdout",
          "text": [
            "32/32 [==============================] - 1s 33ms/step - loss: 0.3614 - digit1_loss: 0.1899 - digit2_loss: 0.1715 - digit1_acc: 0.9668 - digit2_acc: 0.9689\n",
            "Primer digito: 0.9667999744415283 , Segundo digito: 0.9689000248908997\n"
          ]
        }
      ]
    },
    {
      "cell_type": "code",
      "source": [
        "#Printing some examples of real and predicted labels\n",
        "predictions = model.predict(test_images)\n",
        "predictions[0] = predictions[0].reshape(10000,10)\n",
        "predictions[1] = predictions[1].reshape(10000,10)\n",
        "test_labels[0] = test_labels[0].reshape(10000,10)\n",
        "test_labels[1] = test_labels[1].reshape(10000,10)\n",
        "\n",
        "test_images.shape\n",
        "\n",
        "for i in random.sample(range(0,10000),2):\n",
        "    \n",
        "    actual_labels = []\n",
        "    predicted_labels = []\n",
        "    \n",
        "    for j in range(0,2):\n",
        "        actual_labels.append(np.argmax(test_labels[j][i]))\n",
        "        predicted_labels.append(np.argmax(predictions[j][i]))\n",
        "        \n",
        "    print(\"Actual labels: {}\".format(actual_labels))\n",
        "    print(\"Predicted labels: {}\\n\".format(predicted_labels))"
      ],
      "metadata": {
        "colab": {
          "base_uri": "https://localhost:8080/"
        },
        "id": "5pdKxp46KhJk",
        "outputId": "65a937ea-2195-474a-d127-c794f7aa3ce6"
      },
      "execution_count": 30,
      "outputs": [
        {
          "output_type": "stream",
          "name": "stdout",
          "text": [
            "Actual labels: [8, 1]\n",
            "Predicted labels: [8, 1]\n",
            "\n",
            "Actual labels: [8, 5]\n",
            "Predicted labels: [8, 5]\n",
            "\n"
          ]
        }
      ]
    },
    {
      "cell_type": "code",
      "source": [
        "%%capture\n",
        "!pip install opencv-python-headless=='4.1.2.30'\n",
        "from google.colab.patches import cv2_imshow\n",
        "import cv2\n",
        "import numpy as np"
      ],
      "metadata": {
        "id": "jAtimcSzNE_o"
      },
      "execution_count": 33,
      "outputs": []
    },
    {
      "cell_type": "code",
      "source": [
        "img = cv2.imread(\"/content/20.jpg\")\n",
        "cv2_imshow(img)\n",
        "img.shape"
      ],
      "metadata": {
        "colab": {
          "base_uri": "https://localhost:8080/",
          "height": 128
        },
        "id": "E3FHRMWMMotz",
        "outputId": "61362af6-38b2-4009-a30e-573aa1985783"
      },
      "execution_count": 65,
      "outputs": [
        {
          "output_type": "display_data",
          "data": {
            "image/png": "[encoded data removed]",
            "text/plain": [
              "<PIL.Image.Image image mode=RGB size=123x93 at 0x7FCE17B6AC50>"
            ]
          },
          "metadata": {}
        },
        {
          "output_type": "execute_result",
          "data": {
            "text/plain": [
              "(93, 123, 3)"
            ]
          },
          "metadata": {},
          "execution_count": 65
        }
      ]
    },
    {
      "cell_type": "code",
      "source": [
        "img = cv2.Canny(img, 250, 250)\n",
        "# cv2_imshow(img)\n",
        "img.shape\n",
        "dim = (64,64)\n",
        "img = cv2.resize(img, dim, interpolation=cv2.INTER_AREA)\n",
        "cv2_imshow(img)\n",
        "img.shape\n",
        "img = np.expand_dims(img, axis=0)\n",
        "img = np.expand_dims(img, axis=1)\n",
        "img = np.expand_dims(img, axis=-1)\n",
        "img.shape"
      ],
      "metadata": {
        "id": "kWVp_ZPN64gb",
        "outputId": "51cffee1-ad88-42e3-c634-6d310f695364",
        "colab": {
          "base_uri": "https://localhost:8080/",
          "height": 100
        }
      },
      "execution_count": 66,
      "outputs": [
        {
          "output_type": "display_data",
          "data": {
            "image/png": "[encoded data removed]",
            "text/plain": [
              "<PIL.Image.Image image mode=L size=64x64 at 0x7FCE17BA86D0>"
            ]
          },
          "metadata": {}
        },
        {
          "output_type": "execute_result",
          "data": {
            "text/plain": [
              "(1, 1, 64, 64, 1)"
            ]
          },
          "metadata": {},
          "execution_count": 66
        }
      ]
    },
    {
      "cell_type": "code",
      "source": [
        "predictions = model.predict(img)\n",
        "predictions[0] = np.argmax(predictions[0])\n",
        "predictions[1] = np.argmax(predictions[1])\n",
        "print(predictions[0],predictions[1])"
      ],
      "metadata": {
        "colab": {
          "base_uri": "https://localhost:8080/"
        },
        "id": "myvmiMtig4Ej",
        "outputId": "18df9055-39a4-493a-9138-fe93997c4cc1"
      },
      "execution_count": 67,
      "outputs": [
        {
          "output_type": "stream",
          "name": "stdout",
          "text": [
            "2 8\n"
          ]
        }
      ]
    },
    {
      "cell_type": "code",
      "source": [
        "plt.figure()\n",
        "plt.imshow(x_seq_test[0], cmap='gray')\n",
        "plt.show()"
      ],
      "metadata": {
        "colab": {
          "base_uri": "https://localhost:8080/",
          "height": 267
        },
        "id": "OBnJJBPtVqPy",
        "outputId": "40b927c7-67da-47e8-db01-ce9e84a83a2e"
      },
      "execution_count": 135,
      "outputs": [
        {
          "output_type": "display_data",
          "data": {
            "image/png": "[encoded data removed]",
            "text/plain": [
              "<Figure size 432x288 with 1 Axes>"
            ]
          },
          "metadata": {
            "needs_background": "light"
          }
        }
      ]
    },
    {
      "cell_type": "code",
      "source": [
        "predictions = model.predict(test_images[0].reshape(10000,10))"
      ],
      "metadata": {
        "colab": {
          "base_uri": "https://localhost:8080/",
          "height": 172
        },
        "id": "EvEHplyWOhiF",
        "outputId": "d38e3fc8-4963-4b80-8c18-66e5f3d1848b"
      },
      "execution_count": 144,
      "outputs": [
        {
          "output_type": "error",
          "ename": "ValueError",
          "evalue": "ignored",
          "traceback": [
            "\u001b[0;31m---------------------------------------------------------------------------\u001b[0m",
            "\u001b[0;31mValueError\u001b[0m                                Traceback (most recent call last)",
            "\u001b[0;32m<ipython-input-144-1a543c8a5504>\u001b[0m in \u001b[0;36m<module>\u001b[0;34m()\u001b[0m\n\u001b[0;32m----> 1\u001b[0;31m \u001b[0mpredictions\u001b[0m \u001b[0;34m=\u001b[0m \u001b[0mmodel\u001b[0m\u001b[0;34m.\u001b[0m\u001b[0mpredict\u001b[0m\u001b[0;34m(\u001b[0m\u001b[0mtest_images\u001b[0m\u001b[0;34m[\u001b[0m\u001b[0;36m0\u001b[0m\u001b[0;34m]\u001b[0m\u001b[0;34m.\u001b[0m\u001b[0mreshape\u001b[0m\u001b[0;34m(\u001b[0m\u001b[0;36m10000\u001b[0m\u001b[0;34m,\u001b[0m\u001b[0;36m10\u001b[0m\u001b[0;34m)\u001b[0m\u001b[0;34m)\u001b[0m\u001b[0;34m\u001b[0m\u001b[0;34m\u001b[0m\u001b[0m\n\u001b[0m",
            "\u001b[0;31mValueError\u001b[0m: cannot reshape array of size 40960 into shape (10000,10)"
          ]
        }
      ]
    },
    {
      "cell_type": "code",
      "source": [
        "\n"
      ],
      "metadata": {
        "id": "HIyUgxqVUPpG"
      },
      "execution_count": null,
      "outputs": []
    },
    {
      "cell_type": "code",
      "source": [
        "\n",
        "#defining the input\n",
        "model = tf.keras.models.Sequential([\n",
        "\n",
        "    tf.keras.layers.Conv2D(64, kernel_size, activation='relu',kernel_size,padding='same', input_shape=(None,img_rows,img_cols,img_channels)),\n",
        "    tf.keras.layers.MaxPooling2D(pool_size),\n",
        "    tf.keras.layers.BatchNormalization(),\n",
        "\n",
        "    tf.keras.layers.Conv2D(64, kernel_size, activation='relu'),\n",
        "    tf.keras.layers.MaxPooling2D(pool_size),\n",
        "    tf.keras.layers.BatchNormalization(),\n",
        "\n",
        "    tf.keras.layers.Conv2D(128, kernel_size, activation='relu'),\n",
        "    tf.keras.layers.MaxPooling2D(pool_size),\n",
        "    tf.keras.layers.BatchNormalization(),\n",
        "\n",
        "    tf.keras.layers.Flatten(),\n",
        "    tf.keras.layers.Dropout(0.5),\n",
        "\n",
        "    tf.keras.layers.LSTM(64,return_sequences=True)\n",
        "\n",
        "    tf.keras.layers.Dense(256, activation='relu')\n",
        "    tf.keras.layers.Dropout(0.25),\n",
        "\n",
        "    tf.keras.layers.Dense(128, activation='relu'),\n",
        "    tf.keras.layers.Dense((nb_classes, activation='softmax'),name='digit1')\n",
        "    tf.keras.layers.Dense((nb_classes, activation='softmax'),name='digit2')\n"
      ],
      "metadata": {
        "id": "le7nnEOiGiBQ"
      },
      "execution_count": null,
      "outputs": []
    }
  ]
}