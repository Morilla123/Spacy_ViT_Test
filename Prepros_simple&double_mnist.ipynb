{
  "nbformat": 4,
  "nbformat_minor": 0,
  "metadata": {
    "colab": {
      "name": "Prepros_simple&double_mnist.ipynb",
      "provenance": [],
      "collapsed_sections": [],
      "authorship_tag": "ABX9TyPvZ295Tt6TgeqoXG02cf06",
      "include_colab_link": true
    },
    "kernelspec": {
      "name": "python3",
      "display_name": "Python 3"
    },
    "language_info": {
      "name": "python"
    }
  },
  "cells": [
    {
      "cell_type": "markdown",
      "metadata": {
        "id": "view-in-github",
        "colab_type": "text"
      },
      "source": [
        "<a href=\"https://colab.research.google.com/github/Morilla123/Curso/blob/main/Prepros_simple%26double_mnist.ipynb\" target=\"_parent\"><img src=\"https://colab.research.google.com/assets/colab-badge.svg\" alt=\"Open In Colab\"/></a>"
      ]
    },
    {
      "cell_type": "markdown",
      "source": [
        "# Import librares"
      ],
      "metadata": {
        "id": "cWQ7xJfmoxQU"
      }
    },
    {
      "cell_type": "code",
      "execution_count": 13,
      "metadata": {
        "id": "wFDMkTeioV8A"
      },
      "outputs": [],
      "source": [
        "%%capture\n",
        "!pip install opencv-python-headless=='4.1.2.30'\n",
        "!pip install easyocr\n",
        "!pip install imutils\n",
        "!pip install torch"
      ]
    },
    {
      "cell_type": "code",
      "source": [
        "import cv2\n",
        "import numpy as np\n",
        "from google.colab.patches import cv2_imshow\n",
        "from matplotlib import pyplot as plt\n",
        "import numpy as np\n",
        "import imutils\n",
        "import easyocr\n",
        "\n",
        "import numpy as np                   # math library\n",
        "import matplotlib.pyplot as plt      \n",
        "import random                        # for generating random numbers\n",
        "from google.colab.patches import cv2_imshow\n",
        "import tensorflow as tf\n",
        "import seaborn as sns\n",
        "import cv2\n",
        "import imutils\n",
        "\n",
        "from keras.datasets import mnist     # MNIST dataset is included in Keras\n",
        "from keras.models import Sequential  # Model type to be used\n",
        "\n",
        "from keras.layers.core import Dense, Dropout, Activation # Types of layers to be used in our model\n",
        "from keras.utils import np_utils  \n",
        "from keras.preprocessing.image import ImageDataGenerator\n",
        "from keras.layers import Conv2D, MaxPooling2D, ZeroPadding2D, GlobalAveragePooling2D, Flatten\n",
        "from tensorflow.keras.layers import (\n",
        "    BatchNormalization, SeparableConv2D, MaxPooling2D, Activation, Flatten, Dropout, Dense\n",
        ")"
      ],
      "metadata": {
        "id": "KS5M2lFwoyCh"
      },
      "execution_count": 14,
      "outputs": []
    },
    {
      "cell_type": "markdown",
      "source": [
        "## test"
      ],
      "metadata": {
        "id": "zRfcMQZLowgc"
      }
    },
    {
      "cell_type": "code",
      "source": [
        "img = cv2.imread('/content/12 (2).jpg')\n",
        "hight,width,_ = img.shape \n",
        "img = img[0:hight,int(width/2):width]\n",
        "img = cv2.cvtColor(img, cv2.COLOR_BGR2GRAY) # es posible que esta linea no la necesitemos\n",
        "img = cv2.Canny(img, 250, 250)"
      ],
      "metadata": {
        "id": "RkvEnBfHw2eE"
      },
      "execution_count": 67,
      "outputs": []
    },
    {
      "cell_type": "code",
      "source": [
        "cv2_imshow(img)\n",
        "print(img.shape)"
      ],
      "metadata": {
        "colab": {
          "base_uri": "https://localhost:8080/",
          "height": 131
        },
        "id": "Xh0cT6z2w2Ug",
        "outputId": "49d4e4bd-3658-41e0-fc39-ba49791f406e"
      },
      "execution_count": 68,
      "outputs": [
        {
          "output_type": "display_data",
          "data": {
            "image/png": "[encoded data removed]",
            "text/plain": [
              "<PIL.Image.Image image mode=L size=195x97 at 0x7F6CBF09F550>"
            ]
          },
          "metadata": {}
        },
        {
          "output_type": "stream",
          "name": "stdout",
          "text": [
            "(97, 195)\n"
          ]
        }
      ]
    },
    {
      "cell_type": "code",
      "source": [
        "cnts = cv2.findContours(img.copy(), cv2.RETR_EXTERNAL, cv2.CHAIN_APPROX_SIMPLE)\n",
        "cnts = imutils.grab_contours(cnts)\n",
        "\n",
        "for c in cnts:\n",
        "\n",
        "    peri = cv2.arcLength(c, True)\n",
        "    approx = cv2.approxPolyDP(c, 0.04 * peri, True)\n",
        "\n",
        "    if len(approx) == 4:\n",
        "        (x, y, w, h) = cv2.boundingRect(approx)\n",
        "        ar = w / float(h)\n",
        "        shape = \"square\" if ar >= 0.95 and ar <= 1.05 else \"rectangle\"\n",
        "        print('Cuatro puntos')\n",
        "        # print((x, y, w, h))\n",
        "\n",
        "    elif len(approx) != 4:\n",
        "        shape = \"pentagon\"\n",
        "        print('Distinto puntos')"
      ],
      "metadata": {
        "colab": {
          "base_uri": "https://localhost:8080/"
        },
        "id": "pYjYzc6cw2CN",
        "outputId": "14d72459-1448-4894-b7f3-20ba6c936eb8"
      },
      "execution_count": 69,
      "outputs": [
        {
          "output_type": "stream",
          "name": "stdout",
          "text": [
            "Cuatro puntos\n",
            "Cuatro puntos\n",
            "Distinto puntos\n"
          ]
        }
      ]
    },
    {
      "cell_type": "code",
      "source": [
        "approx"
      ],
      "metadata": {
        "colab": {
          "base_uri": "https://localhost:8080/"
        },
        "id": "diznG6qIw1Pl",
        "outputId": "3f6fbdfb-587a-47e4-c878-7bf32db37da4"
      },
      "execution_count": 70,
      "outputs": [
        {
          "output_type": "execute_result",
          "data": {
            "text/plain": [
              "array([[[186,   3]],\n",
              "\n",
              "       [[ 40,   4]],\n",
              "\n",
              "       [[ 40,  74]],\n",
              "\n",
              "       [[  0,  76]],\n",
              "\n",
              "       [[ 40,  75]],\n",
              "\n",
              "       [[ 41,   4]],\n",
              "\n",
              "       [[185,   3]],\n",
              "\n",
              "       [[188,  96]]], dtype=int32)"
            ]
          },
          "metadata": {},
          "execution_count": 70
        }
      ]
    },
    {
      "cell_type": "code",
      "source": [
        "plt.imshow(np.asarray(img))"
      ],
      "metadata": {
        "colab": {
          "base_uri": "https://localhost:8080/",
          "height": 235
        },
        "id": "8BNnRODiyM-d",
        "outputId": "487a403b-6488-4252-eae5-1bad65b436af"
      },
      "execution_count": 72,
      "outputs": [
        {
          "output_type": "execute_result",
          "data": {
            "text/plain": [
              "<matplotlib.image.AxesImage at 0x7f6cbefb2b10>"
            ]
          },
          "metadata": {},
          "execution_count": 72
        },
        {
          "output_type": "display_data",
          "data": {
            "image/png": "[encoded data removed]",
            "text/plain": [
              "<Figure size 432x288 with 1 Axes>"
            ]
          },
          "metadata": {
            "needs_background": "light"
          }
        }
      ]
    },
    {
      "cell_type": "code",
      "source": [
        "%%capture\n",
        "cv2.line(img,(approx[0][0][0],approx[0][0][1]),(approx[1][0][0],approx[1][0][1]),(0,0,0),13)\n",
        "cv2.line(img,(approx[1][0][0],approx[1][0][1]),(approx[2][0][0],approx[2][0][1]),(0,0,0),13)\n",
        "cv2.line(img,(approx[2][0][0],approx[2][0][1]),(approx[3][0][0],approx[3][0][1]),(0,0,0),13)\n",
        "cv2.line(img,(approx[3][0][0],approx[3][0][1]),(approx[0][0][0],approx[0][0][1]),(0,0,0),13)"
      ],
      "metadata": {
        "id": "h1Y5t9W_D4Kt"
      },
      "execution_count": 73,
      "outputs": []
    },
    {
      "cell_type": "code",
      "source": [
        "plt.imshow(np.asarray(img))"
      ],
      "metadata": {
        "colab": {
          "base_uri": "https://localhost:8080/",
          "height": 235
        },
        "id": "BBMSbihHENIs",
        "outputId": "fb82d846-2dd2-4c4d-bb9d-2eb861ba719c"
      },
      "execution_count": 74,
      "outputs": [
        {
          "output_type": "execute_result",
          "data": {
            "text/plain": [
              "<matplotlib.image.AxesImage at 0x7f6cbef9cc50>"
            ]
          },
          "metadata": {},
          "execution_count": 74
        },
        {
          "output_type": "display_data",
          "data": {
            "image/png": "[encoded data removed]",
            "text/plain": [
              "<Figure size 432x288 with 1 Axes>"
            ]
          },
          "metadata": {
            "needs_background": "light"
          }
        }
      ]
    },
    {
      "cell_type": "markdown",
      "source": [
        "# test "
      ],
      "metadata": {
        "id": "OsHPQu4GEaJb"
      }
    },
    {
      "cell_type": "code",
      "source": [
        ""
      ],
      "metadata": {
        "id": "CKQp_hE2ELjX"
      },
      "execution_count": null,
      "outputs": []
    }
  ]
}