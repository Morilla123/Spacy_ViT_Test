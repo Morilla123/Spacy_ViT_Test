{
  "nbformat": 4,
  "nbformat_minor": 0,
  "metadata": {
    "colab": {
      "name": "Prepros_simple&double_mnist.ipynb",
      "provenance": [],
      "collapsed_sections": [
        "cWQ7xJfmoxQU"
      ],
      "authorship_tag": "ABX9TyPRstvZxFiOxmngB5pvinZt",
      "include_colab_link": true
    },
    "kernelspec": {
      "name": "python3",
      "display_name": "Python 3"
    },
    "language_info": {
      "name": "python"
    }
  },
  "cells": [
    {
      "cell_type": "markdown",
      "metadata": {
        "id": "view-in-github",
        "colab_type": "text"
      },
      "source": [
        "<a href=\"https://colab.research.google.com/github/Morilla123/Curso/blob/main/Prepros_simple%26double_mnist.ipynb\" target=\"_parent\"><img src=\"https://colab.research.google.com/assets/colab-badge.svg\" alt=\"Open In Colab\"/></a>"
      ]
    },
    {
      "cell_type": "markdown",
      "source": [
        "# Import librares"
      ],
      "metadata": {
        "id": "cWQ7xJfmoxQU"
      }
    },
    {
      "cell_type": "code",
      "execution_count": 13,
      "metadata": {
        "id": "wFDMkTeioV8A"
      },
      "outputs": [],
      "source": [
        "%%capture\n",
        "!pip install opencv-python-headless=='4.1.2.30'\n",
        "!pip install easyocr\n",
        "!pip install imutils\n",
        "!pip install torch"
      ]
    },
    {
      "cell_type": "code",
      "source": [
        "import cv2\n",
        "import numpy as np\n",
        "from google.colab.patches import cv2_imshow\n",
        "from matplotlib import pyplot as plt\n",
        "import numpy as np\n",
        "import imutils\n",
        "import easyocr\n",
        "\n",
        "import numpy as np                   # math library\n",
        "import matplotlib.pyplot as plt      \n",
        "import random                        # for generating random numbers\n",
        "from google.colab.patches import cv2_imshow\n",
        "import tensorflow as tf\n",
        "import seaborn as sns\n",
        "import cv2\n",
        "import imutils\n",
        "\n",
        "from keras.datasets import mnist     # MNIST dataset is included in Keras\n",
        "from keras.models import Sequential  # Model type to be used\n",
        "\n",
        "from keras.layers.core import Dense, Dropout, Activation # Types of layers to be used in our model\n",
        "from keras.utils import np_utils  \n",
        "from keras.preprocessing.image import ImageDataGenerator\n",
        "from keras.layers import Conv2D, MaxPooling2D, ZeroPadding2D, GlobalAveragePooling2D, Flatten\n",
        "from tensorflow.keras.layers import (\n",
        "    BatchNormalization, SeparableConv2D, MaxPooling2D, Activation, Flatten, Dropout, Dense\n",
        ")"
      ],
      "metadata": {
        "id": "KS5M2lFwoyCh"
      },
      "execution_count": 14,
      "outputs": []
    },
    {
      "cell_type": "markdown",
      "source": [
        "## test"
      ],
      "metadata": {
        "id": "zRfcMQZLowgc"
      }
    },
    {
      "cell_type": "code",
      "source": [
        "img = cv2.imread('/content/05.jpg')\n",
        "hight,width,_ = img.shape \n",
        "img = img[0:hight,int(width/2):width]\n",
        "img = cv2.cvtColor(img, cv2.COLOR_BGR2GRAY) # es posible que esta linea no la necesitemos\n",
        "img = cv2.Canny(img, 250, 250)"
      ],
      "metadata": {
        "id": "RkvEnBfHw2eE"
      },
      "execution_count": 15,
      "outputs": []
    },
    {
      "cell_type": "code",
      "source": [
        "cv2_imshow(img)\n",
        "print(img.shape)"
      ],
      "metadata": {
        "colab": {
          "base_uri": "https://localhost:8080/",
          "height": 131
        },
        "id": "Xh0cT6z2w2Ug",
        "outputId": "1f62e6fc-7253-4d45-bc74-e2bb1e35392e"
      },
      "execution_count": 16,
      "outputs": [
        {
          "output_type": "display_data",
          "data": {
            "image/png": "[encoded data removed]",
            "text/plain": [
              "<PIL.Image.Image image mode=L size=192x97 at 0x7F6CBFB61410>"
            ]
          },
          "metadata": {}
        },
        {
          "output_type": "stream",
          "name": "stdout",
          "text": [
            "(97, 192)\n"
          ]
        }
      ]
    },
    {
      "cell_type": "code",
      "source": [
        "cnts = cv2.findContours(img.copy(), cv2.RETR_EXTERNAL, cv2.CHAIN_APPROX_SIMPLE)\n",
        "cnts = imutils.grab_contours(cnts)\n",
        "\n",
        "for c in cnts:\n",
        "\n",
        "    peri = cv2.arcLength(c, True)\n",
        "    approx = cv2.approxPolyDP(c, 0.04 * peri, True)\n",
        "\n",
        "    if len(approx) == 4:\n",
        "        (x, y, w, h) = cv2.boundingRect(approx)\n",
        "        ar = w / float(h)\n",
        "        shape = \"square\" if ar >= 0.95 and ar <= 1.05 else \"rectangle\"\n",
        "        print('Cuatro puntos')\n",
        "\n",
        "    elif len(approx) != 4:\n",
        "        shape = \"pentagon\"\n",
        "        print('Distinto puntos')"
      ],
      "metadata": {
        "colab": {
          "base_uri": "https://localhost:8080/"
        },
        "id": "pYjYzc6cw2CN",
        "outputId": "559778d7-ce8f-439a-dcb3-e2cc248fe4e7"
      },
      "execution_count": 17,
      "outputs": [
        {
          "output_type": "stream",
          "name": "stdout",
          "text": [
            "Cuatro puntos\n"
          ]
        }
      ]
    },
    {
      "cell_type": "code",
      "source": [
        "# approx"
      ],
      "metadata": {
        "id": "diznG6qIw1Pl"
      },
      "execution_count": 11,
      "outputs": []
    },
    {
      "cell_type": "code",
      "source": [
        "plt.imshow(np.asarray(img))"
      ],
      "metadata": {
        "colab": {
          "base_uri": "https://localhost:8080/",
          "height": 237
        },
        "id": "8BNnRODiyM-d",
        "outputId": "6c76c0c5-b3dd-4223-ff4c-7f51e6534dd7"
      },
      "execution_count": 18,
      "outputs": [
        {
          "output_type": "execute_result",
          "data": {
            "text/plain": [
              "<matplotlib.image.AxesImage at 0x7f6cbf642910>"
            ]
          },
          "metadata": {},
          "execution_count": 18
        },
        {
          "output_type": "display_data",
          "data": {
            "image/png": "[encoded data removed]",
            "text/plain": [
              "<Figure size 432x288 with 1 Axes>"
            ]
          },
          "metadata": {
            "needs_background": "light"
          }
        }
      ]
    },
    {
      "cell_type": "code",
      "source": [
        "lista = [i[0] for i in approx]\n",
        "# lista"
      ],
      "metadata": {
        "id": "-xM3VtEbDsPC"
      },
      "execution_count": 20,
      "outputs": []
    },
    {
      "cell_type": "code",
      "source": [
        "%%capture\n",
        "cv2.line(img,(approx[0][0][0],approx[0][0][1]),(approx[1][0][0],approx[1][0][1]),(0,0,0),13)\n",
        "cv2.line(img,(approx[1][0][0],approx[1][0][1]),(approx[2][0][0],approx[2][0][1]),(0,0,0),13)\n",
        "cv2.line(img,(approx[2][0][0],approx[2][0][1]),(approx[3][0][0],approx[3][0][1]),(0,0,0),13)\n",
        "cv2.line(img,(approx[3][0][0],approx[3][0][1]),(approx[0][0][0],approx[0][0][1]),(0,0,0),13)"
      ],
      "metadata": {
        "id": "h1Y5t9W_D4Kt"
      },
      "execution_count": 22,
      "outputs": []
    },
    {
      "cell_type": "code",
      "source": [
        "plt.imshow(np.asarray(img))"
      ],
      "metadata": {
        "colab": {
          "base_uri": "https://localhost:8080/",
          "height": 237
        },
        "id": "BBMSbihHENIs",
        "outputId": "265f5e74-a5fa-47b7-f261-cd88724c5277"
      },
      "execution_count": 23,
      "outputs": [
        {
          "output_type": "execute_result",
          "data": {
            "text/plain": [
              "<matplotlib.image.AxesImage at 0x7f6cbf5dc950>"
            ]
          },
          "metadata": {},
          "execution_count": 23
        },
        {
          "output_type": "display_data",
          "data": {
            "image/png": "[encoded data removed]",
            "text/plain": [
              "<Figure size 432x288 with 1 Axes>"
            ]
          },
          "metadata": {
            "needs_background": "light"
          }
        }
      ]
    },
    {
      "cell_type": "markdown",
      "source": [
        "# test "
      ],
      "metadata": {
        "id": "OsHPQu4GEaJb"
      }
    },
    {
      "cell_type": "code",
      "source": [
        ""
      ],
      "metadata": {
        "id": "CKQp_hE2ELjX"
      },
      "execution_count": null,
      "outputs": []
    }
  ]
}