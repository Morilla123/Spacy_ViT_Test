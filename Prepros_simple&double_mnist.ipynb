{
  "nbformat": 4,
  "nbformat_minor": 0,
  "metadata": {
    "colab": {
      "name": "Prepros_simple&double_mnist.ipynb",
      "provenance": [],
      "collapsed_sections": [],
      "authorship_tag": "ABX9TyPeEfmMPT0AEy/xUfaFDm1z",
      "include_colab_link": true
    },
    "kernelspec": {
      "name": "python3",
      "display_name": "Python 3"
    },
    "language_info": {
      "name": "python"
    }
  },
  "cells": [
    {
      "cell_type": "markdown",
      "metadata": {
        "id": "view-in-github",
        "colab_type": "text"
      },
      "source": [
        "<a href=\"https://colab.research.google.com/github/Morilla123/Curso/blob/main/Prepros_simple%26double_mnist.ipynb\" target=\"_parent\"><img src=\"https://colab.research.google.com/assets/colab-badge.svg\" alt=\"Open In Colab\"/></a>"
      ]
    },
    {
      "cell_type": "markdown",
      "source": [
        "# Import librares"
      ],
      "metadata": {
        "id": "cWQ7xJfmoxQU"
      }
    },
    {
      "cell_type": "code",
      "execution_count": 1,
      "metadata": {
        "id": "wFDMkTeioV8A"
      },
      "outputs": [],
      "source": [
        "%%capture\n",
        "!pip install opencv-python-headless=='4.1.2.30'\n",
        "!pip install easyocr\n",
        "!pip install imutils\n",
        "!pip install torch"
      ]
    },
    {
      "cell_type": "code",
      "source": [
        "import cv2\n",
        "import numpy as np\n",
        "from google.colab.patches import cv2_imshow\n",
        "from matplotlib import pyplot as plt\n",
        "import numpy as np\n",
        "import imutils\n",
        "import easyocr\n",
        "\n",
        "import numpy as np                   # math library\n",
        "import matplotlib.pyplot as plt      \n",
        "import random                        # for generating random numbers\n",
        "from google.colab.patches import cv2_imshow\n",
        "import tensorflow as tf\n",
        "import seaborn as sns\n",
        "import cv2\n",
        "import imutils\n",
        "\n",
        "from keras.datasets import mnist     # MNIST dataset is included in Keras\n",
        "from keras.models import Sequential  # Model type to be used\n",
        "\n",
        "from keras.layers.core import Dense, Dropout, Activation # Types of layers to be used in our model\n",
        "from keras.utils import np_utils  \n",
        "from keras.preprocessing.image import ImageDataGenerator\n",
        "from keras.layers import Conv2D, MaxPooling2D, ZeroPadding2D, GlobalAveragePooling2D, Flatten\n",
        "from tensorflow.keras.layers import (\n",
        "    BatchNormalization, SeparableConv2D, MaxPooling2D, Activation, Flatten, Dropout, Dense\n",
        ")"
      ],
      "metadata": {
        "id": "KS5M2lFwoyCh"
      },
      "execution_count": 2,
      "outputs": []
    },
    {
      "cell_type": "markdown",
      "source": [
        "## test"
      ],
      "metadata": {
        "id": "zRfcMQZLowgc"
      }
    },
    {
      "cell_type": "code",
      "source": [
        "img = cv2.imread('/content/09.jpg')\n",
        "cv2_imshow(img)\n",
        "print(img.shape)"
      ],
      "metadata": {
        "colab": {
          "base_uri": "https://localhost:8080/",
          "height": 152
        },
        "id": "WL0aTkMiX1DY",
        "outputId": "5d39b538-468d-4e82-b536-42c001104148"
      },
      "execution_count": 41,
      "outputs": [
        {
          "output_type": "display_data",
          "data": {
            "image/png": "[encoded data removed]",
            "text/plain": [
              "<PIL.Image.Image image mode=RGB size=317x118 at 0x7F66B13EC9D0>"
            ]
          },
          "metadata": {}
        },
        {
          "output_type": "stream",
          "name": "stdout",
          "text": [
            "(118, 317, 3)\n"
          ]
        }
      ]
    },
    {
      "cell_type": "code",
      "source": [
        "img = cv2.imread('/content/11.jpg')\n",
        "hight,width,_ = img.shape \n",
        "img = img[0:hight,int(width/2):width]\n",
        "dim = (hight,hight)\n",
        "img = cv2.resize(img, dim, interpolation=cv2.INTER_AREA)\n",
        "img = cv2.cvtColor(img, cv2.COLOR_BGR2GRAY) # es posible que esta linea no la necesitemos\n",
        "img = cv2.Canny(img, 250, 250)"
      ],
      "metadata": {
        "id": "RkvEnBfHw2eE"
      },
      "execution_count": 85,
      "outputs": []
    },
    {
      "cell_type": "code",
      "source": [
        "cv2_imshow(img)\n",
        "print(img.shape)"
      ],
      "metadata": {
        "colab": {
          "base_uri": "https://localhost:8080/",
          "height": 112
        },
        "id": "Xh0cT6z2w2Ug",
        "outputId": "4fd2fe3e-cf68-4845-ca77-97cd0c15d10d"
      },
      "execution_count": 81,
      "outputs": [
        {
          "output_type": "display_data",
          "data": {
            "image/png": "[encoded data removed]",
            "text/plain": [
              "<PIL.Image.Image image mode=L size=78x78 at 0x7F66B01FD8D0>"
            ]
          },
          "metadata": {}
        },
        {
          "output_type": "stream",
          "name": "stdout",
          "text": [
            "(78, 78)\n"
          ]
        }
      ]
    },
    {
      "cell_type": "code",
      "source": [
        "cv2_imshow(image)\n",
        "print(img.shape)  # tener en cuenta dimension"
      ],
      "metadata": {
        "colab": {
          "base_uri": "https://localhost:8080/",
          "height": 120
        },
        "id": "mA5gd3I0ZtJj",
        "outputId": "151aacde-514d-483c-9f61-955e44f1636e"
      },
      "execution_count": 102,
      "outputs": [
        {
          "output_type": "display_data",
          "data": {
            "image/png": "[encoded data removed]",
            "text/plain": [
              "<PIL.Image.Image image mode=RGB size=322x86 at 0x7F66B01FDDD0>"
            ]
          },
          "metadata": {}
        },
        {
          "output_type": "stream",
          "name": "stdout",
          "text": [
            "(104, 104)\n"
          ]
        }
      ]
    },
    {
      "cell_type": "code",
      "source": [
        "image = cv2.imread('/content/9.jpg')\n",
        "\n",
        "gray = cv2.cvtColor(image, cv2.COLOR_BGR2GRAY)\n",
        "blur = cv2.medianBlur(gray, 5)\n",
        "sharpen_kernel = np.array([[-1,-1,-1], [-1,9,-1], [-1,-1,-1]])\n",
        "sharpen = cv2.filter2D(blur, -1, sharpen_kernel)\n",
        "\n",
        "thresh = cv2.threshold(sharpen,160,255, cv2.THRESH_BINARY_INV)[1]\n",
        "kernel = cv2.getStructuringElement(cv2.MORPH_RECT, (3,3))\n",
        "close = cv2.morphologyEx(thresh, cv2.MORPH_CLOSE, kernel, iterations=2)\n",
        "\n",
        "cnts = cv2.findContours(close, cv2.RETR_EXTERNAL, cv2.CHAIN_APPROX_SIMPLE)\n",
        "cnts = cnts[0] if len(cnts) == 2 else cnts[1]\n",
        "\n",
        "min_area = 1200\n",
        "max_area = 15000\n",
        "image_number = 0\n",
        "for c in cnts:\n",
        "    area = cv2.contourArea(c)\n",
        "    if area > min_area and area < max_area:\n",
        "        x,y,w,h = cv2.boundingRect(c)\n",
        "        ROI = image[y:y+h, x:x+w]\n",
        "        cv2.imwrite('ROI_{}.png'.format(image_number), ROI)\n",
        "        cv2.rectangle(image, (x, y), (x + w, y + h), (36,255,12), 2)\n",
        "        image_number += 1\n",
        "\n",
        "cv2_imshow(image)\n",
        "print(img.shape)"
      ],
      "metadata": {
        "colab": {
          "base_uri": "https://localhost:8080/",
          "height": 120
        },
        "id": "m5ydXQzfZtAr",
        "outputId": "2d476708-8f0d-4366-b563-73c44aef3e24"
      },
      "execution_count": 101,
      "outputs": [
        {
          "output_type": "display_data",
          "data": {
            "image/png": "[encoded data removed]",
            "text/plain": [
              "<PIL.Image.Image image mode=RGB size=322x86 at 0x7F66B0242ED0>"
            ]
          },
          "metadata": {}
        },
        {
          "output_type": "stream",
          "name": "stdout",
          "text": [
            "(104, 104)\n"
          ]
        }
      ]
    },
    {
      "cell_type": "code",
      "source": [
        ""
      ],
      "metadata": {
        "id": "T0D4yknXZsyF"
      },
      "execution_count": null,
      "outputs": []
    },
    {
      "cell_type": "code",
      "source": [
        "def angle_cos(p0, p1, p2):\n",
        "    d1, d2 = (p0-p1).astype('float'), (p2-p1).astype('float')\n",
        "    return abs( np.dot(d1, d2) / np.sqrt( np.dot(d1, d1)*np.dot(d2, d2) ) )"
      ],
      "metadata": {
        "id": "MX7YVhr4NkGt"
      },
      "execution_count": 47,
      "outputs": []
    },
    {
      "cell_type": "code",
      "source": [
        "min_area = 100\n",
        "max_area = 1500"
      ],
      "metadata": {
        "id": "DUjEcibrZcZ1"
      },
      "execution_count": 49,
      "outputs": []
    },
    {
      "cell_type": "code",
      "source": [
        "def find_squares(img):\n",
        "    img = cv2.GaussianBlur(img, (5, 5), 0)\n",
        "    squares = []\n",
        "    for gray in cv2.split(img):\n",
        "        for thrs in range(0, 255, 26):\n",
        "            if thrs == 0:\n",
        "                bin = cv2.Canny(gray, 0, 50, apertureSize=5)\n",
        "                bin = cv2.dilate(bin, None)\n",
        "            else:\n",
        "                _retval, bin = cv2.threshold(gray, thrs, 255, cv2.THRESH_BINARY)\n",
        "\n",
        "            contours, _hierarchy = cv2.findContours(bin, cv2.RETR_LIST, cv2.CHAIN_APPROX_SIMPLE)\n",
        "            \n",
        "            for cnt in contours:\n",
        "                cnt_len = cv2.arcLength(cnt, True)\n",
        "                cnt = cv2.approxPolyDP(cnt, 0.02*cnt_len, True)\n",
        "                if len(cnt) == 4 and cv2.contourArea(cnt) > 1000 and cv2.isContourConvex(cnt):\n",
        "                    cnt = cnt.reshape(-1, 2)\n",
        "                    max_cos = np.max([angle_cos( cnt[i], cnt[(i+1) % 4], cnt[(i+2) % 4] ) for i in range(4)])\n",
        "                    #print(cnt)\n",
        "                    a = (cnt[1][1] - cnt[0][1])\n",
        "\n",
        "                    if max_cos < 0.1 and a < img.shape[0]*0.8:\n",
        "\n",
        "                        squares.append(cnt)\n",
        "    return squares"
      ],
      "metadata": {
        "id": "n3PzU-mIMBjA"
      },
      "execution_count": 82,
      "outputs": []
    },
    {
      "cell_type": "code",
      "source": [
        "# img = cv2.imread('/content/07.jpg')\n",
        "squares = find_squares(img)\n",
        "cv2.drawContours(img, squares, -1, (0, 255, 0), 3)\n",
        "cv2_imshow(img)\n",
        "print(img.shape)"
      ],
      "metadata": {
        "colab": {
          "base_uri": "https://localhost:8080/",
          "height": 351
        },
        "id": "YoA8AesSMrH2",
        "outputId": "90667b01-1f69-486d-be4c-84ee48d835f3"
      },
      "execution_count": 39,
      "outputs": [
        {
          "output_type": "display_data",
          "data": {
            "image/png": "[encoded data removed]",
            "text/plain": [
              "<PIL.Image.Image image mode=L size=317x317 at 0x7F66B0AEA6D0>"
            ]
          },
          "metadata": {}
        },
        {
          "output_type": "stream",
          "name": "stdout",
          "text": [
            "(317, 317)\n"
          ]
        }
      ]
    },
    {
      "cell_type": "code",
      "source": [
        "cnts = cv2.findContours(img.copy(), cv2.RETR_EXTERNAL, cv2.CHAIN_APPROX_SIMPLE)\n",
        "cnts = imutils.grab_contours(cnts)\n",
        "\n",
        "for c in cnts:\n",
        "\n",
        "    peri = cv2.arcLength(c, True)\n",
        "    approx = cv2.approxPolyDP(c, 0.02 * peri, True)\n",
        "\n",
        "    if len(approx) == 4:\n",
        "        (x, y, w, h) = cv2.boundingRect(approx)\n",
        "        ar = w / float(h)\n",
        "        shape = \"square\" if ar >= 0.95 and ar <= 1.05 else \"rectangle\"\n",
        "        print('Cuatro puntos')\n",
        "        # print((x, y, w, h))\n",
        "\n",
        "    elif len(approx) != 4:\n",
        "        shape = \"pentagon\"\n",
        "        print('Distinto puntos')"
      ],
      "metadata": {
        "colab": {
          "base_uri": "https://localhost:8080/"
        },
        "id": "pYjYzc6cw2CN",
        "outputId": "9415572a-526d-47c2-b47f-7ee67b255c55"
      },
      "execution_count": 79,
      "outputs": [
        {
          "output_type": "stream",
          "name": "stdout",
          "text": [
            "Distinto puntos\n",
            "Distinto puntos\n",
            "Cuatro puntos\n",
            "Distinto puntos\n"
          ]
        }
      ]
    },
    {
      "cell_type": "code",
      "source": [
        "approx"
      ],
      "metadata": {
        "colab": {
          "base_uri": "https://localhost:8080/"
        },
        "id": "diznG6qIw1Pl",
        "outputId": "fcd0d16f-d325-42b3-a915-5f93ea4845e5"
      },
      "execution_count": 74,
      "outputs": [
        {
          "output_type": "execute_result",
          "data": {
            "text/plain": [
              "array([[[23,  7]],\n",
              "\n",
              "       [[23, 76]],\n",
              "\n",
              "       [[80, 77]],\n",
              "\n",
              "       [[81,  9]]], dtype=int32)"
            ]
          },
          "metadata": {},
          "execution_count": 74
        }
      ]
    },
    {
      "cell_type": "code",
      "source": [
        "plt.imshow(np.asarray(img))"
      ],
      "metadata": {
        "colab": {
          "base_uri": "https://localhost:8080/",
          "height": 286
        },
        "id": "8BNnRODiyM-d",
        "outputId": "8598c25f-c7c0-4777-97e6-895a15eed357"
      },
      "execution_count": 77,
      "outputs": [
        {
          "output_type": "execute_result",
          "data": {
            "text/plain": [
              "<matplotlib.image.AxesImage at 0x7f66b022dc50>"
            ]
          },
          "metadata": {},
          "execution_count": 77
        },
        {
          "output_type": "display_data",
          "data": {
            "image/png": "[encoded data removed]",
            "text/plain": [
              "<Figure size 432x288 with 1 Axes>"
            ]
          },
          "metadata": {
            "needs_background": "light"
          }
        }
      ]
    },
    {
      "cell_type": "code",
      "source": [
        "%%capture\n",
        "cv2.line(img,(approx[0][0][0],approx[0][0][1]),(approx[1][0][0],approx[1][0][1]),(0,0,0),13)\n",
        "cv2.line(img,(approx[1][0][0],approx[1][0][1]),(approx[2][0][0],approx[2][0][1]),(0,0,0),13)\n",
        "cv2.line(img,(approx[2][0][0],approx[2][0][1]),(approx[3][0][0],approx[3][0][1]),(0,0,0),13)\n",
        "cv2.line(img,(approx[3][0][0],approx[3][0][1]),(approx[0][0][0],approx[0][0][1]),(0,0,0),13)"
      ],
      "metadata": {
        "id": "h1Y5t9W_D4Kt"
      },
      "execution_count": 75,
      "outputs": []
    },
    {
      "cell_type": "code",
      "source": [
        "plt.imshow(np.asarray(img))"
      ],
      "metadata": {
        "colab": {
          "base_uri": "https://localhost:8080/",
          "height": 286
        },
        "id": "BBMSbihHENIs",
        "outputId": "37489e42-ec66-4341-dc43-4d45a8b5f9da"
      },
      "execution_count": 76,
      "outputs": [
        {
          "output_type": "execute_result",
          "data": {
            "text/plain": [
              "<matplotlib.image.AxesImage at 0x7f66b0ac7310>"
            ]
          },
          "metadata": {},
          "execution_count": 76
        },
        {
          "output_type": "display_data",
          "data": {
            "image/png": "[encoded data removed]",
            "text/plain": [
              "<Figure size 432x288 with 1 Axes>"
            ]
          },
          "metadata": {
            "needs_background": "light"
          }
        }
      ]
    },
    {
      "cell_type": "markdown",
      "source": [
        "# test "
      ],
      "metadata": {
        "id": "OsHPQu4GEaJb"
      }
    },
    {
      "cell_type": "code",
      "source": [
        ""
      ],
      "metadata": {
        "id": "CKQp_hE2ELjX"
      },
      "execution_count": null,
      "outputs": []
    }
  ]
}