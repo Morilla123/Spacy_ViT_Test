{
  "cells": [
    {
      "cell_type": "markdown",
      "metadata": {
        "id": "view-in-github",
        "colab_type": "text"
      },
      "source": [
        "<a href=\"https://colab.research.google.com/github/Morilla123/Curso/blob/main/pdf2jpg.ipynb\" target=\"_parent\"><img src=\"https://colab.research.google.com/assets/colab-badge.svg\" alt=\"Open In Colab\"/></a>"
      ]
    },
    {
      "cell_type": "code",
      "execution_count": 1,
      "metadata": {
        "id": "H35lr2waPGRg"
      },
      "outputs": [],
      "source": [
        "%%capture\n",
        "!pip install PyMuPDF\n",
        "import fitz\n",
        "!import os\n",
        "!pip install pdf2image\n",
        "!pip install poppler\n",
        "!pip install Wand\n",
        "!apt-get install poppler-utils \n",
        "from pdf2image import convert_from_path, convert_from_bytes\n",
        "from IPython.display import display, Image\n",
        "from os import listdir\n",
        "from os.path import isfile, join"
      ]
    },
    {
      "cell_type": "code",
      "execution_count": null,
      "metadata": {
        "colab": {
          "base_uri": "https://localhost:8080/"
        },
        "id": "_zgxx3BQ6JGe",
        "outputId": "eb68300b-cc2a-4bab-a5dd-4e0d51f8e85a"
      },
      "outputs": [
        {
          "name": "stdout",
          "output_type": "stream",
          "text": [
            "Mounted at /content/drive\n"
          ]
        }
      ],
      "source": [
        "from google.colab import drive\n",
        "drive.mount('/content/drive')"
      ]
    },
    {
      "cell_type": "code",
      "execution_count": 2,
      "metadata": {
        "id": "wrIT6O7WPHfl",
        "colab": {
          "base_uri": "https://localhost:8080/"
        },
        "outputId": "00b46dce-d032-43ac-fe1b-116e6a4fb5bf"
      },
      "outputs": [
        {
          "output_type": "execute_result",
          "data": {
            "text/plain": [
              "8"
            ]
          },
          "metadata": {},
          "execution_count": 2
        }
      ],
      "source": [
        "def ls(ruta = '-'):\n",
        "    return [arch for arch in listdir(ruta) if isfile(join(ruta, arch))]\n",
        "\n",
        "datas = ls('/content/pdf')   # no especificar ruta para tomar el directorio actual\n",
        "\n",
        "len(datas)"
      ]
    },
    {
      "cell_type": "code",
      "execution_count": 3,
      "metadata": {
        "id": "E4PigcYAuZmP"
      },
      "outputs": [],
      "source": [
        "In [4]: import tempfile\n",
        "location = '/content/img/'\n",
        "\n",
        "for files in datas:\n",
        "  with tempfile.TemporaryDirectory() as path:\n",
        "    images_from_path = convert_from_path('/content/pdf/'+ str(files), output_folder=location,fmt='jpg',dpi=300, output_file=str(files))"
      ]
    }
  ],
  "metadata": {
    "colab": {
      "name": "pdf2jpg.ipynb",
      "provenance": [],
      "collapsed_sections": [],
      "include_colab_link": true
    },
    "kernelspec": {
      "display_name": "Python 3",
      "name": "python3"
    },
    "language_info": {
      "name": "python"
    }
  },
  "nbformat": 4,
  "nbformat_minor": 0
}